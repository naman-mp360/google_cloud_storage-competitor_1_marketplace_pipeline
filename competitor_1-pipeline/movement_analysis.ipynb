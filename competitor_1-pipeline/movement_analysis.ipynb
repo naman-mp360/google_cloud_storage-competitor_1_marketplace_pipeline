{
 "cells": [
  {
   "cell_type": "markdown",
   "id": "834d86c4",
   "metadata": {},
   "source": [
    "### importing libraries"
   ]
  },
  {
   "cell_type": "code",
   "execution_count": 1,
   "id": "9ca8cb69",
   "metadata": {},
   "outputs": [],
   "source": [
    "from google.cloud import storage\n",
    "from oauth2client.service_account import ServiceAccountCredentials\n",
    "\n",
    "import numpy as np\n",
    "import pandas as pd\n",
    "pd.set_option('display.max_columns', None)\n",
    "\n",
    "import gspread\n",
    "gc = gspread.oauth()\n",
    "\n",
    "import os\n",
    "import csv\n",
    "import json\n",
    "import gzip\n",
    "import glob\n",
    "\n",
    "import haversine as hs\n",
    "\n",
    "from tqdm.notebook import tqdm\n",
    "tqdm.pandas()\n",
    "\n",
    "from datetime import datetime, timedelta\n",
    "from pytz import timezone"
   ]
  },
  {
   "cell_type": "markdown",
   "id": "866a07ae",
   "metadata": {},
   "source": [
    "### instantiating the google cloud object"
   ]
  },
  {
   "cell_type": "code",
   "execution_count": 2,
   "id": "d834d9d9",
   "metadata": {},
   "outputs": [],
   "source": [
    "# instantiating the google cloud storage client using the credentials\n",
    "storage_client = storage.Client.from_service_account_json('ds_credentials_edit.json')"
   ]
  },
  {
   "cell_type": "markdown",
   "id": "67a27c62",
   "metadata": {},
   "source": [
    "### creating a bucket on google cloud storage"
   ]
  },
  {
   "cell_type": "code",
   "execution_count": 3,
   "id": "577375db",
   "metadata": {},
   "outputs": [],
   "source": [
    "# # declaring the bucket name to be created\n",
    "# bucket_name = 'ds_competitor_1_marketplace_scraped_data'\n",
    "\n",
    "# # create a new bucket\n",
    "# new_bucket = storage_client.bucket(bucket_name)\n",
    "# new_bucket.storage_class = 'STANDARD'\n",
    "\n",
    "# # returns Bucket object\n",
    "# created_bucket = storage_client.create_bucket(new_bucket, location='asia-south1')"
   ]
  },
  {
   "cell_type": "markdown",
   "id": "161a1f3d",
   "metadata": {},
   "source": [
    "### calling the google cloud storage bucket object and pushing not yet uploaded files"
   ]
  },
  {
   "cell_type": "code",
   "execution_count": 4,
   "id": "3614d81b",
   "metadata": {},
   "outputs": [],
   "source": [
    "# declaring the bucket name from which the date needs to be fetched\n",
    "bucket_name = 'ds_competitor_1_marketplace_scraped_data'\n",
    "\n",
    "# get the bucket object from the storage_client\n",
    "bucket = storage_client.get_bucket(bucket_name)"
   ]
  },
  {
   "cell_type": "code",
   "execution_count": 5,
   "id": "7af86b83",
   "metadata": {},
   "outputs": [],
   "source": [
    "# declaring empty list to store the filenames that needs to be downloaded from the bucket\n",
    "blob_file_names = []\n",
    "\n",
    "# get names of all the blobs in the bucket\n",
    "for blob_ in bucket.list_blobs():\n",
    "    blob_file_names.append(blob_.name)"
   ]
  },
  {
   "cell_type": "code",
   "execution_count": 6,
   "id": "be8431e2",
   "metadata": {},
   "outputs": [],
   "source": [
    "# crawling through folder to get all the file names with local directory\n",
    "local_path = \"/home/customer/Narada/ScrapedData\"\n",
    "all_folders = glob.glob(local_path + '/**')\n",
    "files_uploaded_dir_remote = []\n",
    "files_uploaded_dir_local = []\n",
    "\n",
    "while len(all_folders)!=0:\n",
    "    local_file = all_folders.pop()\n",
    "    if not os.path.isfile(local_file):\n",
    "        all_folders.extend(glob.glob(local_file + '/**'))\n",
    "    else:\n",
    "        files_uploaded_dir_remote.append(local_file[22:])\n",
    "        files_uploaded_dir_local.append(local_file)"
   ]
  },
  {
   "cell_type": "code",
   "execution_count": 7,
   "id": "6da91c98",
   "metadata": {},
   "outputs": [],
   "source": [
    "# creating dataframe for the directory path and file_names\n",
    "all_file_dir = pd.DataFrame({'remote':files_uploaded_dir_remote,\\\n",
    "                         'local':files_uploaded_dir_local\n",
    "                        })"
   ]
  },
  {
   "cell_type": "code",
   "execution_count": 8,
   "id": "0857c388",
   "metadata": {},
   "outputs": [],
   "source": [
    "# filtering out the files that need to pushed to google cloud storage\n",
    "file_dir = all_file_dir[~all_file_dir['remote'].isin(blob_file_names)].reset_index(drop=True)"
   ]
  },
  {
   "cell_type": "code",
   "execution_count": 9,
   "id": "10f314e5",
   "metadata": {},
   "outputs": [
    {
     "data": {
      "text/plain": [
       "0"
      ]
     },
     "execution_count": 9,
     "metadata": {},
     "output_type": "execute_result"
    }
   ],
   "source": [
    "# count of file to be uploaded to google cloud storage\n",
    "len(file_dir)"
   ]
  },
  {
   "cell_type": "code",
   "execution_count": 10,
   "id": "c54235b8",
   "metadata": {},
   "outputs": [
    {
     "data": {
      "application/vnd.jupyter.widget-view+json": {
       "model_id": "d480851776a74493a654269db61a679e",
       "version_major": 2,
       "version_minor": 0
      },
      "text/plain": [
       "0it [00:00, ?it/s]"
      ]
     },
     "metadata": {},
     "output_type": "display_data"
    }
   ],
   "source": [
    "# iterating and trying to upload all data programatically\n",
    "for i in tqdm(range(len(file_dir))):\n",
    "    # Name of the object to be stored in the bucket\n",
    "    object_name_in_bucket = bucket.blob(file_dir['remote'].iloc[i])\n",
    "    \n",
    "    # Name of the object in local file system\n",
    "    object_name_in_bucket.upload_from_filename(file_dir['local'].iloc[i])"
   ]
  },
  {
   "cell_type": "markdown",
   "id": "e81821a4",
   "metadata": {},
   "source": [
    "### segregating and labelling the files into \"Animal Details\", \"Seller Details\" and \"Resource Details\""
   ]
  },
  {
   "cell_type": "code",
   "execution_count": 11,
   "id": "4dfabb07",
   "metadata": {},
   "outputs": [],
   "source": [
    "# segragating \"Animal Details\", \"Resources\" and \"Seller Info\" files\n",
    "def labelling_files(x):\n",
    "    # handling bad files\n",
    "    if len(x.split(\".\")[0])>5:\n",
    "        # splitting \"file name\" into 'sub_file_name_tokens'\n",
    "        sub_file_name_tokens = x.split(\".\")[0].split(\"_\")\n",
    "\n",
    "        # getting 'file_type' - AD/seller/resource\n",
    "        file_type = sub_file_name_tokens[-1]\n",
    "\n",
    "        # getting 'date_scraped'\n",
    "        date_scraped = sub_file_name_tokens[-2]\n",
    "\n",
    "        # getting 'state' (cross checking)\n",
    "        state = sub_file_name_tokens[0]\n",
    "        \n",
    "        # returns data as tuple\n",
    "        return [file_type, date_scraped, state]\n",
    "\n",
    "    else:\n",
    "        return ['NA', 'NA', 'NA']"
   ]
  },
  {
   "cell_type": "code",
   "execution_count": 12,
   "id": "f3d65d51",
   "metadata": {},
   "outputs": [],
   "source": [
    "# getting file_names to segregate and process files\n",
    "file_names = [item.split(\"/\")[-1] for item in files_uploaded_dir_local]"
   ]
  },
  {
   "cell_type": "code",
   "execution_count": 13,
   "id": "f9ffc1b2",
   "metadata": {},
   "outputs": [],
   "source": [
    "# dataFrame with details of all the files in our 'ScrapedData' for 'classified' business\n",
    "file_df = pd.DataFrame({'file_names':file_names,\\\n",
    "                        'location':files_uploaded_dir_local\n",
    "                       })"
   ]
  },
  {
   "cell_type": "code",
   "execution_count": 14,
   "id": "793086d5",
   "metadata": {},
   "outputs": [
    {
     "data": {
      "application/vnd.jupyter.widget-view+json": {
       "model_id": "c467c8b5326c426daf1a9163638517de",
       "version_major": 2,
       "version_minor": 0
      },
      "text/plain": [
       "  0%|          | 0/827 [00:00<?, ?it/s]"
      ]
     },
     "metadata": {},
     "output_type": "display_data"
    }
   ],
   "source": [
    "# adding metaData to the 'file_df' DataFrame\n",
    "file_df[['file_type','date_scraped','state']] = file_df['file_names'].progress_apply(lambda x:labelling_files(x)).tolist()\n",
    "\n",
    "# dropping 'NA' rows\n",
    "file_df = file_df[file_df['state']!='NA']\n",
    "\n",
    "# converting 'date_scraped' to datetime format, and sorting dataFrame\n",
    "file_df['date_scraped'] = pd.to_datetime(file_df['date_scraped'])\n",
    "file_df.sort_values(by='date_scraped', inplace=True)\n",
    "file_df.reset_index(drop=True, inplace=True)"
   ]
  },
  {
   "cell_type": "code",
   "execution_count": 15,
   "id": "836a5f13",
   "metadata": {},
   "outputs": [],
   "source": [
    "# fetching most recent sample \"classified-animal_details\" excel file\n",
    "AD_files = file_df[file_df['file_type']=='AD'].reset_index(drop=True)\n",
    "\n",
    "# fetching most recent sample \"classified-seller\" excel file\n",
    "seller_files = file_df[file_df['file_type']=='seller'].reset_index(drop=True)\n",
    "\n",
    "# fetching most recent sample \"classified-resource\" excel file\n",
    "resource_files = file_df[file_df['file_type']=='resource'].reset_index(drop=True)"
   ]
  },
  {
   "cell_type": "markdown",
   "id": "fac3f017",
   "metadata": {},
   "source": [
    "### all ANIMAL details files cattle movement analysis"
   ]
  },
  {
   "cell_type": "code",
   "execution_count": 16,
   "id": "58a2592b",
   "metadata": {},
   "outputs": [],
   "source": [
    "# function to concatenate all \"Animal Details\" excel files\n",
    "def get_animal_details(files_df_):\n",
    "    # declaring empty list to concat all dataFrames\n",
    "    dflist = []\n",
    "    \n",
    "    # looping and concatenating\n",
    "    for i in tqdm(range(len(files_df_))):#[-10] to take most recent 10 days scraped data\n",
    "        \n",
    "        # file_path of all excel files\n",
    "        file_path_ = files_df_['location'].iloc[i]\n",
    "\n",
    "        # reading the file        \n",
    "        df1 = pd.read_excel(file_path_)\n",
    "        df1['date_scraped'] = files_df_['date_scraped'].iloc[i]\n",
    "        df1['date_scraped'] = pd.to_datetime(df1['date_scraped'])\n",
    "        df1['listing_state'] = files_df_['state'].iloc[i]\n",
    "        df1['file_age'] = df1['date_scraped'].apply(lambda x: int((datetime.today() - x).days)+1)\n",
    "        dflist.append(df1)\n",
    "        \n",
    "    # concatenating and dropping index\n",
    "    concatenated_df = pd.concat(dflist).reset_index().drop('index',axis=1)\n",
    "    \n",
    "    # renaming columns\n",
    "    concatenated_df.rename(columns={'_id':'cattle_id','userId':'seller_id', 'seller':'seller_name', 'state':'listing_status'}, inplace=True)\n",
    "    \n",
    "    # returning the concatenated dataFrame\n",
    "    return concatenated_df"
   ]
  },
  {
   "cell_type": "code",
   "execution_count": 17,
   "id": "e6437cad",
   "metadata": {},
   "outputs": [],
   "source": [
    "# # changing the directory to location where excel files will be downloaded\n",
    "# os.chdir(\"processed_data_files/\")\n",
    "\n",
    "# # getting list of all downloaded CSV files\n",
    "# all_processed_files = os.listdir()\n",
    "\n",
    "# # changing directory to previous folder\n",
    "# os.chdir(\"../\")\n",
    "\n",
    "# # reading from disk\n",
    "# ad_csvs = [item for item in all_processed_files if item[:21]=='all_animal_details_df']\n",
    "# ad_csvs.sort()\n",
    "# recent_ad_df = pd.read_csv(\"processed_data_files/\"+ad_csvs[-1], compression='gzip')"
   ]
  },
  {
   "cell_type": "code",
   "execution_count": 18,
   "id": "e51e9116",
   "metadata": {},
   "outputs": [
    {
     "data": {
      "application/vnd.jupyter.widget-view+json": {
       "model_id": "65b3bd41d062443596c6cfdeed0a1e92",
       "version_major": 2,
       "version_minor": 0
      },
      "text/plain": [
       "  0%|          | 0/276 [00:00<?, ?it/s]"
      ]
     },
     "metadata": {},
     "output_type": "display_data"
    }
   ],
   "source": [
    "# calling the dataFrames concatenating function\n",
    "all_animal_details_df = get_animal_details(AD_files)"
   ]
  },
  {
   "cell_type": "code",
   "execution_count": 149,
   "id": "b28b7206",
   "metadata": {},
   "outputs": [],
   "source": [
    "# # adding date of results to cattle_sold csv file_name\n",
    "# animal_details_file_name = \"processed_data_files/all_animal_details_df_\"+str(datetime.today().date())+\".csv\"\n",
    "\n",
    "# # saving to disk\n",
    "# all_animal_details_df.to_csv(animal_details_file_name, index=False, compression='gzip')"
   ]
  },
  {
   "cell_type": "code",
   "execution_count": 20,
   "id": "e289851a",
   "metadata": {
    "scrolled": true
   },
   "outputs": [],
   "source": [
    "# dropping off \"PENDING\" and \"STA\" listing_status - only 2 such instances\n",
    "all_ad_df = all_animal_details_df[all_animal_details_df['listing_status']=='ACTIVE'].copy()\n",
    "\n",
    "# getting all unique 'cattle_id'\n",
    "all_ad_df['cattle_id'] = all_ad_df['cattle_id'].astype(str)\n",
    "\n",
    "# converting columns into 'datetime' format\n",
    "all_ad_df['publishedOn'] = pd.to_datetime(all_ad_df['publishedOn'])\n",
    "all_ad_df['date_scraped'] = pd.to_datetime(all_ad_df['date_scraped'])\n",
    "\n",
    "# getting the 'last_scraped_date'\n",
    "last_scraped_date = all_ad_df['date_scraped'].max()"
   ]
  },
  {
   "cell_type": "code",
   "execution_count": 21,
   "id": "579fc4c1",
   "metadata": {},
   "outputs": [],
   "source": [
    "# replacing NaN values\n",
    "all_ad_df['description'].fillna(\"-\", inplace=True)\n",
    "all_ad_df['deliveredBefore'].fillna(-999, inplace=True)\n",
    "all_ad_df['hasDelivered'].fillna(-999, inplace=True)\n",
    "all_ad_df['isPregnant'].fillna(-999, inplace=True)\n",
    "all_ad_df['pregnancyMonth'].fillna(-999, inplace=True)\n",
    "all_ad_df['calf'].fillna('-', inplace=True)\n",
    "all_ad_df['partnerId'].fillna(-999, inplace=True)\n",
    "all_ad_df['hasContacted'].fillna(-999, inplace=True)\n",
    "all_ad_df['breed'].fillna(\"-\", inplace=True)\n",
    "\n",
    "# replacing int 0 value with str\n",
    "all_ad_df['calf'].replace(0,'-', inplace=True)\n",
    "all_ad_df['breed'].replace(0,'-', inplace=True)\n",
    "\n",
    "# dropping redundant columns\n",
    "all_ad_df.drop(columns=['description'], inplace=True)\n",
    "all_ad_df.drop(columns=['district'], inplace=True)\n",
    "all_ad_df.drop(columns=['dynamicLink'], inplace=True)"
   ]
  },
  {
   "cell_type": "code",
   "execution_count": 22,
   "id": "67cbefd2",
   "metadata": {},
   "outputs": [],
   "source": [
    "# grouped based on \"cattle_id\", sorted by \"date_scraped\", taking the last occurence\n",
    "cattle_sold = pd.DataFrame(all_ad_df.sort_values(by='date_scraped').groupby('cattle_id').tail(1)).reset_index(drop=True)\n"
   ]
  },
  {
   "cell_type": "code",
   "execution_count": 23,
   "id": "90cd5b61",
   "metadata": {},
   "outputs": [
    {
     "data": {
      "application/vnd.jupyter.widget-view+json": {
       "model_id": "8e30aaec50d9457e99c95ee6e3570aad",
       "version_major": 2,
       "version_minor": 0
      },
      "text/plain": [
       "  0%|          | 0/108638 [00:00<?, ?it/s]"
      ]
     },
     "metadata": {},
     "output_type": "display_data"
    }
   ],
   "source": [
    "# converting datetime utc to datetime ist\n",
    "cattle_sold['publishedOn'] = cattle_sold['publishedOn'].progress_apply(lambda x: x.astimezone(timezone('Asia/Kolkata')))\n"
   ]
  },
  {
   "cell_type": "code",
   "execution_count": 24,
   "id": "b37307b5",
   "metadata": {},
   "outputs": [],
   "source": [
    "# rounding off to 6 digit decimal\n",
    "cattle_sold['lat'] = cattle_sold['lat'].round(6)\n",
    "cattle_sold['long'] = cattle_sold['long'].round(6)"
   ]
  },
  {
   "cell_type": "code",
   "execution_count": 25,
   "id": "c2205031",
   "metadata": {},
   "outputs": [
    {
     "data": {
      "application/vnd.jupyter.widget-view+json": {
       "model_id": "1eda46a0d9fd47589d414b74e200b352",
       "version_major": 2,
       "version_minor": 0
      },
      "text/plain": [
       "  0%|          | 0/108638 [00:00<?, ?it/s]"
      ]
     },
     "metadata": {},
     "output_type": "display_data"
    }
   ],
   "source": [
    "# lat,long pair\n",
    "cattle_sold['lat_long'] = cattle_sold.progress_apply(lambda x: str(x['lat'])+\",\"+str(x['long']), axis=1)"
   ]
  },
  {
   "cell_type": "code",
   "execution_count": 26,
   "id": "ba7b08c1",
   "metadata": {},
   "outputs": [],
   "source": [
    "# function to get listing_status(Sold/Unsold/Fresh_listing) an the no. of days taken to sell item if sold\n",
    "def get_listing_status(x, last_scraped_dt):\n",
    "    # \"UnSold\" listing\n",
    "    if int((last_scraped_dt-pd.to_datetime(x['date_scraped'])).days)==0:\n",
    "        days_to_sell = -999\n",
    "        sold_status = 'UNSOLD'\n",
    "    # \"Fresh\" listing\n",
    "    elif int((last_scraped_dt-pd.to_datetime(x['publishedOn'].date())).days)==0:\n",
    "        days_to_sell = -999\n",
    "        sold_status = 'FRESH_LISTING'\n",
    "    # \"De-listed\" listing\n",
    "    elif int((pd.to_datetime(x['date_scraped'])-pd.to_datetime(x['publishedOn'].date())).days)==28:\n",
    "        days_to_sell = -999\n",
    "        sold_status = 'DELISTED_LISTING'\n",
    "    # \"Sold\" listing\n",
    "    else:\n",
    "        days_to_sell = int((pd.to_datetime(x['date_scraped'])-pd.to_datetime(x['publishedOn'].date())).days)+1\n",
    "        sold_status = 'Yes'\n",
    "     \n",
    "    # returning the no. of \"days_taken_to_sell\" and the final \"sold_status\"\n",
    "    return [days_to_sell, sold_status]"
   ]
  },
  {
   "cell_type": "code",
   "execution_count": 27,
   "id": "e0d03bbc",
   "metadata": {},
   "outputs": [
    {
     "data": {
      "application/vnd.jupyter.widget-view+json": {
       "model_id": "5cf1fbda6da74bd09266e0cbd6f276cc",
       "version_major": 2,
       "version_minor": 0
      },
      "text/plain": [
       "  0%|          | 0/108638 [00:00<?, ?it/s]"
      ]
     },
     "metadata": {},
     "output_type": "display_data"
    }
   ],
   "source": [
    "# applying the \"get_listing_status\" function\n",
    "cattle_sold[['days_to_sell', 'sold_status']] = cattle_sold.progress_apply(lambda y:get_listing_status(y, last_scraped_date),axis=1).tolist()"
   ]
  },
  {
   "cell_type": "code",
   "execution_count": 28,
   "id": "a6509b7d",
   "metadata": {},
   "outputs": [
    {
     "data": {
      "text/plain": [
       "<AxesSubplot: title={'center': 'day_to_sell distribution'}, xlabel='days_to_sell', ylabel='# sold'>"
      ]
     },
     "execution_count": 28,
     "metadata": {},
     "output_type": "execute_result"
    },
    {
     "data": {
      "image/png": "[encoded data removed]",
      "text/plain": [
       "<Figure size 640x480 with 1 Axes>"
      ]
     },
     "metadata": {},
     "output_type": "display_data"
    }
   ],
   "source": [
    "cattle_sold[cattle_sold['days_to_sell']!=-999]['days_to_sell'].value_counts().plot.bar(xlabel=\"days_to_sell\",ylabel=\"# sold\", title=\"day_to_sell distribution\")"
   ]
  },
  {
   "cell_type": "code",
   "execution_count": 29,
   "id": "e00305c6",
   "metadata": {
    "scrolled": false
   },
   "outputs": [
    {
     "data": {
      "text/plain": [
       "(108638, 38)"
      ]
     },
     "execution_count": 29,
     "metadata": {},
     "output_type": "execute_result"
    }
   ],
   "source": [
    "cattle_sold.shape"
   ]
  },
  {
   "cell_type": "code",
   "execution_count": 30,
   "id": "b862cd01",
   "metadata": {},
   "outputs": [],
   "source": [
    "# # adding date of results to cattle_sold csv file_name\n",
    "# cattle_sold_file_name = \"processed_data_files/cattle_sold_df_\"+str(datetime.today().date())+\".parquet\"\n",
    "\n",
    "# # saving to disk\n",
    "# cattle_sold.to_parquet(cattle_sold_file_name, index=False)"
   ]
  },
  {
   "cell_type": "code",
   "execution_count": 31,
   "id": "ebecbacc",
   "metadata": {},
   "outputs": [],
   "source": [
    "# unique_lat_loong for gmap lat_long mapping\n",
    "unique_lat_long_df = cattle_sold[['lat','long','lat_long']].drop_duplicates(subset=['lat_long'], keep='last').reset_index(drop=True)\n"
   ]
  },
  {
   "cell_type": "markdown",
   "id": "4a244475",
   "metadata": {},
   "source": [
    "### all SELLER details files contact number mapping"
   ]
  },
  {
   "cell_type": "code",
   "execution_count": 32,
   "id": "6a2976ac",
   "metadata": {},
   "outputs": [],
   "source": [
    "# function to concatenate all \"Seller\" excel files\n",
    "def get_seller_details(files_df_):\n",
    "    # declaring empty list to concat all dataFrames\n",
    "    dflist = []\n",
    "    \n",
    "    # looping and concatenating\n",
    "    for i in tqdm(range(len(files_df_))):#[-10] to take most recent 10 days scraped data\n",
    "        \n",
    "        # file_path of all excel files\n",
    "        file_path_ = files_df_['location'].iloc[i]\n",
    "        \n",
    "        # reading the file\n",
    "        df1 = pd.read_excel(file_path_)\n",
    "        df1['date_scraped'] = files_df_['date_scraped'].iloc[i]\n",
    "        df1['date_scraped'] = pd.to_datetime(df1['date_scraped'])\n",
    "        df1['listing_state'] = files_df_['state'].iloc[i]\n",
    "        df1['file_age'] = df1['date_scraped'].apply(lambda x: int((datetime.today() - x).days)+1)\n",
    "        dflist.append(df1)\n",
    "        \n",
    "    # concatenating and dropping index\n",
    "    concatenated_df = pd.concat(dflist).reset_index().drop('index',axis=1)\n",
    "    \n",
    "    # renaming columns\n",
    "    concatenated_df.rename(columns={'_id':'cattle_id','userId':'seller_id', 'seller':'seller_name', 'state':'listing_status'}, inplace=True)\n",
    "    \n",
    "    # returning the concatenated dataFrame\n",
    "    return concatenated_df"
   ]
  },
  {
   "cell_type": "code",
   "execution_count": 33,
   "id": "df998413",
   "metadata": {},
   "outputs": [],
   "source": [
    "# # changing the directory to location where excel files will be downloaded\n",
    "# os.chdir(\"processed_data_files/\")\n",
    "\n",
    "# # getting list of all downloaded CSV files\n",
    "# all_processed_files = os.listdir()\n",
    "\n",
    "# # changing directory to previous folder\n",
    "# os.chdir(\"../\")\n",
    "\n",
    "# # reading from disk\n",
    "# seller_parquets = [item for item in all_processed_files if item[:21]=='all_seller_details_df']\n",
    "# seller_parquets.sort()\n",
    "# recent_seller_df = pd.read_parquet(\"processed_data_files/\"+seller_parquets[-1])"
   ]
  },
  {
   "cell_type": "code",
   "execution_count": 34,
   "id": "30c6b8f4",
   "metadata": {},
   "outputs": [
    {
     "data": {
      "application/vnd.jupyter.widget-view+json": {
       "model_id": "fd9c3301d4754ea8b3c56f5de3323576",
       "version_major": 2,
       "version_minor": 0
      },
      "text/plain": [
       "  0%|          | 0/275 [00:00<?, ?it/s]"
      ]
     },
     "metadata": {},
     "output_type": "display_data"
    }
   ],
   "source": [
    "# calling the dataFrames concatenating function\n",
    "all_seller_details_df = get_seller_details(seller_files)"
   ]
  },
  {
   "cell_type": "code",
   "execution_count": 35,
   "id": "b635efa0",
   "metadata": {},
   "outputs": [
    {
     "data": {
      "application/vnd.jupyter.widget-view+json": {
       "model_id": "b08ae83e2b544bc990f4696544794c35",
       "version_major": 2,
       "version_minor": 0
      },
      "text/plain": [
       "  0%|          | 0/530689 [00:00<?, ?it/s]"
      ]
     },
     "metadata": {},
     "output_type": "display_data"
    }
   ],
   "source": [
    "# tagging and filtering out 10 digit seller_id\n",
    "all_seller_details_df['contact_number_y/n'] = all_seller_details_df['id'].progress_apply(lambda x: \"Yes\" \\\n",
    "                                                                                if(len(str(x))==10) else \"No\")"
   ]
  },
  {
   "cell_type": "code",
   "execution_count": 36,
   "id": "2739d7f7",
   "metadata": {},
   "outputs": [],
   "source": [
    "all_contacts = all_seller_details_df[all_seller_details_df['contact_number_y/n'] == 'Yes'].reset_index(drop=True).copy()"
   ]
  },
  {
   "cell_type": "code",
   "execution_count": 37,
   "id": "8c7f84e2",
   "metadata": {},
   "outputs": [],
   "source": [
    "contacts_cattle_id = all_contacts[['cattle_id','id']].copy()\n",
    "contacts_cattle_id.rename(columns={'id':'contact_number'}, inplace=True)\n",
    "contacts_cattle_id['contact_number'] = contacts_cattle_id['contact_number'].astype(int)\n",
    "contacts_cattle_id.drop_duplicates(inplace=True)\n",
    "contacts_cattle_id.reset_index(drop=True, inplace=True)"
   ]
  },
  {
   "cell_type": "code",
   "execution_count": 38,
   "id": "c04d0a2c",
   "metadata": {
    "scrolled": true
   },
   "outputs": [
    {
     "data": {
      "text/plain": [
       "(25552, 2)"
      ]
     },
     "execution_count": 38,
     "metadata": {},
     "output_type": "execute_result"
    }
   ],
   "source": [
    "contacts_cattle_id.shape"
   ]
  },
  {
   "cell_type": "code",
   "execution_count": 39,
   "id": "f4d2aae0",
   "metadata": {},
   "outputs": [],
   "source": [
    "# # adding date of results to all_animal_details csv file_name\n",
    "# contacts_cattle_id_file_name = \"processed_data_files/all_seller_details_df_\"+str(datetime.today().date())+\".parquet\"\n",
    "\n",
    "# # saving to disk\n",
    "# contacts_cattle_id.to_parquet(contacts_cattle_id_file_name, index=False)"
   ]
  },
  {
   "cell_type": "markdown",
   "id": "9cdb7010",
   "metadata": {},
   "source": [
    "### all cattles pincode mapping - gmap_lat_long"
   ]
  },
  {
   "cell_type": "code",
   "execution_count": 52,
   "id": "be174408",
   "metadata": {},
   "outputs": [],
   "source": [
    "# # 'new' from 'gmap_lat_long_mapping'\n",
    "# sh = gc.open_by_key('1yybUEyelVjqX4AfwRqgRJ4EK19CakSNVaFHkCqzZ8PA')\n",
    "# res = sh.values_get(\"new!A:H\")\n",
    "# gmap_lat_long_mapping_df = pd.DataFrame(res['values'][1:], columns=res['values'][0]) "
   ]
  },
  {
   "cell_type": "code",
   "execution_count": 83,
   "id": "7ef2f227",
   "metadata": {},
   "outputs": [],
   "source": [
    "# reading the current gmap_lat_long_mapping csv\n",
    "gmap_lat_long_mapping_df = pd.read_csv(\"gmap_mapping_result.csv\")"
   ]
  },
  {
   "cell_type": "code",
   "execution_count": 84,
   "id": "13399473",
   "metadata": {},
   "outputs": [
    {
     "data": {
      "text/plain": [
       "(55179, 8)"
      ]
     },
     "execution_count": 84,
     "metadata": {},
     "output_type": "execute_result"
    }
   ],
   "source": [
    "gmap_lat_long_mapping_df.shape"
   ]
  },
  {
   "cell_type": "code",
   "execution_count": 85,
   "id": "5660a75f",
   "metadata": {},
   "outputs": [
    {
     "data": {
      "text/html": [
       "<div>\n",
       "<style scoped>\n",
       "    .dataframe tbody tr th:only-of-type {\n",
       "        vertical-align: middle;\n",
       "    }\n",
       "\n",
       "    .dataframe tbody tr th {\n",
       "        vertical-align: top;\n",
       "    }\n",
       "\n",
       "    .dataframe thead th {\n",
       "        text-align: right;\n",
       "    }\n",
       "</style>\n",
       "<table border=\"1\" class=\"dataframe\">\n",
       "  <thead>\n",
       "    <tr style=\"text-align: right;\">\n",
       "      <th></th>\n",
       "      <th>lat</th>\n",
       "      <th>long</th>\n",
       "      <th>lat_long</th>\n",
       "      <th>GLat</th>\n",
       "      <th>GLong</th>\n",
       "      <th>lat_long_gmap</th>\n",
       "      <th>Pincode</th>\n",
       "      <th>Distance</th>\n",
       "    </tr>\n",
       "  </thead>\n",
       "  <tbody>\n",
       "    <tr>\n",
       "      <th>0</th>\n",
       "      <td>23.2432</td>\n",
       "      <td>82.8425</td>\n",
       "      <td>23.2432,82.8425</td>\n",
       "      <td>23.2878</td>\n",
       "      <td>82.1659</td>\n",
       "      <td>23.2878,82.1659</td>\n",
       "      <td>484440</td>\n",
       "      <td>83.151</td>\n",
       "    </tr>\n",
       "    <tr>\n",
       "      <th>1</th>\n",
       "      <td>23.4886</td>\n",
       "      <td>83.7164</td>\n",
       "      <td>23.4886,83.7164</td>\n",
       "      <td>24.0249</td>\n",
       "      <td>83.2452</td>\n",
       "      <td>24.0249,83.2452</td>\n",
       "      <td>231212</td>\n",
       "      <td>91.826</td>\n",
       "    </tr>\n",
       "    <tr>\n",
       "      <th>2</th>\n",
       "      <td>23.8331</td>\n",
       "      <td>79.4419</td>\n",
       "      <td>23.8331,79.4419</td>\n",
       "      <td>23.8323</td>\n",
       "      <td>79.4387</td>\n",
       "      <td>23.8323,79.4387</td>\n",
       "      <td>470661</td>\n",
       "      <td>0.410</td>\n",
       "    </tr>\n",
       "    <tr>\n",
       "      <th>3</th>\n",
       "      <td>23.6399</td>\n",
       "      <td>79.0655</td>\n",
       "      <td>23.6399,79.0655</td>\n",
       "      <td>23.6399</td>\n",
       "      <td>79.0655</td>\n",
       "      <td>23.6399,79.0655</td>\n",
       "      <td>470227</td>\n",
       "      <td>0.001</td>\n",
       "    </tr>\n",
       "    <tr>\n",
       "      <th>4</th>\n",
       "      <td>23.8235</td>\n",
       "      <td>79.4294</td>\n",
       "      <td>23.8235,79.4294</td>\n",
       "      <td>23.8189</td>\n",
       "      <td>79.4288</td>\n",
       "      <td>23.8189,79.4288</td>\n",
       "      <td>470661</td>\n",
       "      <td>0.623</td>\n",
       "    </tr>\n",
       "  </tbody>\n",
       "</table>\n",
       "</div>"
      ],
      "text/plain": [
       "       lat     long         lat_long     GLat    GLong    lat_long_gmap  \\\n",
       "0  23.2432  82.8425  23.2432,82.8425  23.2878  82.1659  23.2878,82.1659   \n",
       "1  23.4886  83.7164  23.4886,83.7164  24.0249  83.2452  24.0249,83.2452   \n",
       "2  23.8331  79.4419  23.8331,79.4419  23.8323  79.4387  23.8323,79.4387   \n",
       "3  23.6399  79.0655  23.6399,79.0655  23.6399  79.0655  23.6399,79.0655   \n",
       "4  23.8235  79.4294  23.8235,79.4294  23.8189  79.4288  23.8189,79.4288   \n",
       "\n",
       "   Pincode  Distance  \n",
       "0   484440    83.151  \n",
       "1   231212    91.826  \n",
       "2   470661     0.410  \n",
       "3   470227     0.001  \n",
       "4   470661     0.623  "
      ]
     },
     "execution_count": 85,
     "metadata": {},
     "output_type": "execute_result"
    }
   ],
   "source": [
    "gmap_lat_long_mapping_df.head()"
   ]
  },
  {
   "cell_type": "code",
   "execution_count": 86,
   "id": "f967eb66",
   "metadata": {},
   "outputs": [
    {
     "data": {
      "text/plain": [
       "(54832, 3)"
      ]
     },
     "execution_count": 86,
     "metadata": {},
     "output_type": "execute_result"
    }
   ],
   "source": [
    "unique_lat_long_df.shape"
   ]
  },
  {
   "cell_type": "code",
   "execution_count": 87,
   "id": "c1c6d7c8",
   "metadata": {},
   "outputs": [],
   "source": [
    "# filtering out 'cattle_ids' that need to be mapped\n",
    "tbd_df = unique_lat_long_df[~unique_lat_long_df['lat_long'].isin(gmap_lat_long_mapping_df['lat_long'].tolist())].reset_index(drop=True)\n"
   ]
  },
  {
   "cell_type": "code",
   "execution_count": 88,
   "id": "c276904c",
   "metadata": {},
   "outputs": [
    {
     "data": {
      "text/plain": [
       "(0, 3)"
      ]
     },
     "execution_count": 88,
     "metadata": {},
     "output_type": "execute_result"
    }
   ],
   "source": [
    "tbd_df.shape"
   ]
  },
  {
   "cell_type": "code",
   "execution_count": 89,
   "id": "05c8c7a2",
   "metadata": {},
   "outputs": [],
   "source": [
    "# # Written to \"classified_AD_movement_analysis\"\n",
    "# worksheet = gc.open_by_key('1yybUEyelVjqX4AfwRqgRJ4EK19CakSNVaFHkCqzZ8PA').worksheet('tbd_cattles')\n",
    "# # raw_data\n",
    "# tbd_cattles_data = [tbd_df.columns.astype(str).tolist()]+tbd_df.values.astype(str).tolist()\n",
    "# # writing the sheet\n",
    "# worksheet.update('A1', tbd_cattles_data)"
   ]
  },
  {
   "cell_type": "code",
   "execution_count": 90,
   "id": "d7991dd4",
   "metadata": {},
   "outputs": [],
   "source": [
    "# reading the GMAP lat_long data\n",
    "lat_long_df = pd.read_csv(\"GMAP_full.csv\")\n",
    "\n",
    "# unique gmap lat_long from haversine pairing\n",
    "gmap_data = lat_long_df[['Lat_GMAP','Long_GMAP','Lat_Long_GMAP','Pincode']].to_numpy()"
   ]
  },
  {
   "cell_type": "code",
   "execution_count": 91,
   "id": "c4f0a354",
   "metadata": {},
   "outputs": [
    {
     "data": {
      "text/html": [
       "<div>\n",
       "<style scoped>\n",
       "    .dataframe tbody tr th:only-of-type {\n",
       "        vertical-align: middle;\n",
       "    }\n",
       "\n",
       "    .dataframe tbody tr th {\n",
       "        vertical-align: top;\n",
       "    }\n",
       "\n",
       "    .dataframe thead th {\n",
       "        text-align: right;\n",
       "    }\n",
       "</style>\n",
       "<table border=\"1\" class=\"dataframe\">\n",
       "  <thead>\n",
       "    <tr style=\"text-align: right;\">\n",
       "      <th></th>\n",
       "      <th>OfficeName</th>\n",
       "      <th>Pincode</th>\n",
       "      <th>District</th>\n",
       "      <th>StateName</th>\n",
       "      <th>Lat_GMAP</th>\n",
       "      <th>Long_GMAP</th>\n",
       "      <th>Lat_Long_GMAP</th>\n",
       "    </tr>\n",
       "  </thead>\n",
       "  <tbody>\n",
       "    <tr>\n",
       "      <th>0</th>\n",
       "      <td>Baniya Khera B.O</td>\n",
       "      <td>126110</td>\n",
       "      <td>JIND</td>\n",
       "      <td>HARYANA</td>\n",
       "      <td>29.401032</td>\n",
       "      <td>76.486672</td>\n",
       "      <td>29.401032,76.486672</td>\n",
       "    </tr>\n",
       "    <tr>\n",
       "      <th>1</th>\n",
       "      <td>Lajwan Kalan B.O</td>\n",
       "      <td>126101</td>\n",
       "      <td>JIND</td>\n",
       "      <td>HARYANA</td>\n",
       "      <td>29.117692</td>\n",
       "      <td>76.433170</td>\n",
       "      <td>29.117692,76.43317</td>\n",
       "    </tr>\n",
       "    <tr>\n",
       "      <th>2</th>\n",
       "      <td>Malwi B.O</td>\n",
       "      <td>126101</td>\n",
       "      <td>JIND</td>\n",
       "      <td>HARYANA</td>\n",
       "      <td>29.117692</td>\n",
       "      <td>76.433170</td>\n",
       "      <td>29.117692,76.43317</td>\n",
       "    </tr>\n",
       "    <tr>\n",
       "      <th>3</th>\n",
       "      <td>Mandi Kalan B.O</td>\n",
       "      <td>126125</td>\n",
       "      <td>JIND</td>\n",
       "      <td>HARYANA</td>\n",
       "      <td>29.575578</td>\n",
       "      <td>76.304385</td>\n",
       "      <td>29.575578,76.304385</td>\n",
       "    </tr>\n",
       "    <tr>\n",
       "      <th>4</th>\n",
       "      <td>Sandil B.O</td>\n",
       "      <td>126125</td>\n",
       "      <td>JIND</td>\n",
       "      <td>HARYANA</td>\n",
       "      <td>29.547268</td>\n",
       "      <td>76.346362</td>\n",
       "      <td>29.547268,76.346362</td>\n",
       "    </tr>\n",
       "  </tbody>\n",
       "</table>\n",
       "</div>"
      ],
      "text/plain": [
       "         OfficeName  Pincode District StateName   Lat_GMAP  Long_GMAP  \\\n",
       "0  Baniya Khera B.O   126110     JIND   HARYANA  29.401032  76.486672   \n",
       "1  Lajwan Kalan B.O   126101     JIND   HARYANA  29.117692  76.433170   \n",
       "2         Malwi B.O   126101     JIND   HARYANA  29.117692  76.433170   \n",
       "3   Mandi Kalan B.O   126125     JIND   HARYANA  29.575578  76.304385   \n",
       "4        Sandil B.O   126125     JIND   HARYANA  29.547268  76.346362   \n",
       "\n",
       "         Lat_Long_GMAP  \n",
       "0  29.401032,76.486672  \n",
       "1   29.117692,76.43317  \n",
       "2   29.117692,76.43317  \n",
       "3  29.575578,76.304385  \n",
       "4  29.547268,76.346362  "
      ]
     },
     "execution_count": 91,
     "metadata": {},
     "output_type": "execute_result"
    }
   ],
   "source": [
    "lat_long_df.head()"
   ]
  },
  {
   "cell_type": "code",
   "execution_count": 92,
   "id": "a570e39a",
   "metadata": {},
   "outputs": [],
   "source": [
    "# return min distance and pincode along with gmap mapped lat and long\n",
    "def gmap_lat_long_mapping_fx(x,y=gmap_data):\n",
    "    mapped_lat_long_ = []\n",
    "    distances_ = np.array(list(map(lambda y:hs.haversine((x[0],x[1]),(y[0],y[1])),y)))\n",
    "    index_min = np.argmin(distances_)\n",
    "    mapped_lat_long_ = x.tolist()+y[index_min].tolist()+[distances_[index_min].round(3)]\n",
    "    return mapped_lat_long_"
   ]
  },
  {
   "cell_type": "code",
   "execution_count": 93,
   "id": "5d7a6e85",
   "metadata": {},
   "outputs": [
    {
     "data": {
      "application/vnd.jupyter.widget-view+json": {
       "model_id": "9e10818a4463471ab028677db6540f23",
       "version_major": 2,
       "version_minor": 0
      },
      "text/plain": [
       "0it [00:00, ?it/s]"
      ]
     },
     "metadata": {},
     "output_type": "display_data"
    },
    {
     "data": {
      "text/html": [
       "<div>\n",
       "<style scoped>\n",
       "    .dataframe tbody tr th:only-of-type {\n",
       "        vertical-align: middle;\n",
       "    }\n",
       "\n",
       "    .dataframe tbody tr th {\n",
       "        vertical-align: top;\n",
       "    }\n",
       "\n",
       "    .dataframe thead th {\n",
       "        text-align: right;\n",
       "    }\n",
       "</style>\n",
       "<table border=\"1\" class=\"dataframe\">\n",
       "  <thead>\n",
       "    <tr style=\"text-align: right;\">\n",
       "      <th></th>\n",
       "      <th>lat</th>\n",
       "      <th>long</th>\n",
       "      <th>lat_long</th>\n",
       "    </tr>\n",
       "  </thead>\n",
       "  <tbody>\n",
       "  </tbody>\n",
       "</table>\n",
       "</div>"
      ],
      "text/plain": [
       "Empty DataFrame\n",
       "Columns: [lat, long, lat_long]\n",
       "Index: []"
      ]
     },
     "execution_count": 93,
     "metadata": {},
     "output_type": "execute_result"
    }
   ],
   "source": [
    "tbd_df.progress_apply(lambda x: gmap_lat_long_mapping_fx(x), axis=1)"
   ]
  },
  {
   "cell_type": "code",
   "execution_count": 94,
   "id": "a42c2c14",
   "metadata": {},
   "outputs": [
    {
     "data": {
      "application/vnd.jupyter.widget-view+json": {
       "model_id": "b66b9013abfc4f9181e83649e9eab27d",
       "version_major": 2,
       "version_minor": 0
      },
      "text/plain": [
       "0it [00:00, ?it/s]"
      ]
     },
     "metadata": {},
     "output_type": "display_data"
    }
   ],
   "source": [
    "mapped_gmap_data = tbd_df.progress_apply(lambda x: gmap_lat_long_mapping_fx(x), axis=1)"
   ]
  },
  {
   "cell_type": "code",
   "execution_count": 95,
   "id": "17164b35",
   "metadata": {},
   "outputs": [],
   "source": [
    "mapped_data_df = pd.DataFrame(mapped_gmap_data.values.tolist(), columns=['lat','long','lat_long','GLat','GLong','lat_long_gmap','Pincode','Distance'])\n"
   ]
  },
  {
   "cell_type": "code",
   "execution_count": 96,
   "id": "743f9884",
   "metadata": {},
   "outputs": [
    {
     "data": {
      "text/plain": [
       "(0, 8)"
      ]
     },
     "execution_count": 96,
     "metadata": {},
     "output_type": "execute_result"
    }
   ],
   "source": [
    "mapped_data_df.shape"
   ]
  },
  {
   "cell_type": "code",
   "execution_count": 97,
   "id": "727f0677",
   "metadata": {},
   "outputs": [],
   "source": [
    "gmap_lat_long_mapping_df = pd.concat([gmap_lat_long_mapping_df,mapped_data_df], axis=0)"
   ]
  },
  {
   "cell_type": "code",
   "execution_count": 98,
   "id": "07ee5601",
   "metadata": {},
   "outputs": [
    {
     "data": {
      "text/plain": [
       "(55179, 8)"
      ]
     },
     "execution_count": 98,
     "metadata": {},
     "output_type": "execute_result"
    }
   ],
   "source": [
    "gmap_lat_long_mapping_df.shape"
   ]
  },
  {
   "cell_type": "code",
   "execution_count": 99,
   "id": "da4b9d79",
   "metadata": {},
   "outputs": [],
   "source": [
    "# rounding off to 6 decimal\n",
    "gmap_lat_long_mapping_df['lat'] = gmap_lat_long_mapping_df['lat'].astype(float).round(6)\n",
    "gmap_lat_long_mapping_df['long'] = gmap_lat_long_mapping_df['long'].astype(float).round(6)\n",
    "gmap_lat_long_mapping_df['Pincode'] = gmap_lat_long_mapping_df['Pincode'].astype(int)\n",
    "gmap_lat_long_mapping_df['Distance'] = gmap_lat_long_mapping_df['Distance'].astype(float).round(3)"
   ]
  },
  {
   "cell_type": "code",
   "execution_count": 100,
   "id": "42dd213a",
   "metadata": {},
   "outputs": [],
   "source": [
    "# # Written to \"classified_AD_movement_analysis\"\n",
    "# worksheet = gc.open_by_key('1yybUEyelVjqX4AfwRqgRJ4EK19CakSNVaFHkCqzZ8PA').worksheet('current')\n",
    "# # raw_data\n",
    "# lat_long_data = [gmap_lat_long_mapping_df.columns.astype(str).tolist()]+gmap_lat_long_mapping_df.values.astype(str).tolist()\n",
    "# # writing the sheet\n",
    "# worksheet.update('A1', lat_long_data)"
   ]
  },
  {
   "cell_type": "code",
   "execution_count": 101,
   "id": "7a8a04a4",
   "metadata": {},
   "outputs": [],
   "source": [
    "# # Written to \"classified_AD_movement_analysis\"\n",
    "# worksheet = gc.open_by_key('1yybUEyelVjqX4AfwRqgRJ4EK19CakSNVaFHkCqzZ8PA').worksheet('new')\n",
    "# # raw_data\n",
    "# lat_long_data = [gmap_lat_long_mapping_df.columns.astype(str).tolist()]+gmap_lat_long_mapping_df.values.astype(str).tolist()\n",
    "# # writing the sheet\n",
    "# worksheet.update('A1', lat_long_data)"
   ]
  },
  {
   "cell_type": "code",
   "execution_count": 102,
   "id": "13151ca1",
   "metadata": {},
   "outputs": [],
   "source": [
    "# # adding date of results to all_animal_details csv file_name\n",
    "# gmap_lat_long_file_name = \"processed_data_files/gmap_lat_long_mapping_df_\"+str(datetime.today().date())+\".parquet\"\n",
    "\n",
    "# # saving to disk\n",
    "# gmap_lat_long_mapping_df.to_parquet(gmap_lat_long_file_name, index=False)"
   ]
  },
  {
   "cell_type": "code",
   "execution_count": 103,
   "id": "943ff8fe",
   "metadata": {},
   "outputs": [],
   "source": [
    "# # saving to disk\n",
    "# gmap_lat_long_mapping_df.to_csv(\"gmap_mapping_result.csv\", index=False)"
   ]
  },
  {
   "cell_type": "markdown",
   "id": "5f30bb66",
   "metadata": {},
   "source": [
    "### indian postal code pincode.csv"
   ]
  },
  {
   "cell_type": "code",
   "execution_count": 104,
   "id": "7600ff2a",
   "metadata": {},
   "outputs": [],
   "source": [
    "# reading csv\n",
    "pincode_df = pd.read_csv(\"pincode.csv\", low_memory=False)"
   ]
  },
  {
   "cell_type": "code",
   "execution_count": 105,
   "id": "6155b44d",
   "metadata": {},
   "outputs": [
    {
     "data": {
      "text/plain": [
       "(157126, 11)"
      ]
     },
     "execution_count": 105,
     "metadata": {},
     "output_type": "execute_result"
    }
   ],
   "source": [
    "pincode_df.shape"
   ]
  },
  {
   "cell_type": "code",
   "execution_count": 106,
   "id": "15a50225",
   "metadata": {},
   "outputs": [],
   "source": [
    "pincodes_df = pincode_df[['Pincode','District','StateName']].copy()"
   ]
  },
  {
   "cell_type": "code",
   "execution_count": 107,
   "id": "f8af76a1",
   "metadata": {},
   "outputs": [],
   "source": [
    "pincodes_df = pincodes_df.rename(columns={'Pincode':'gmap_pincode',\\\n",
    "                            'District':'gmap_district',\\\n",
    "                            'StateName':'gmap_state',\\\n",
    "                           })"
   ]
  },
  {
   "cell_type": "code",
   "execution_count": 108,
   "id": "67f4c623",
   "metadata": {},
   "outputs": [],
   "source": [
    "pincodes_df = pincodes_df.drop_duplicates(subset=['gmap_pincode']).reset_index(drop=True)"
   ]
  },
  {
   "cell_type": "code",
   "execution_count": 109,
   "id": "abd7d87f",
   "metadata": {},
   "outputs": [
    {
     "data": {
      "text/plain": [
       "(19300, 3)"
      ]
     },
     "execution_count": 109,
     "metadata": {},
     "output_type": "execute_result"
    }
   ],
   "source": [
    "pincodes_df.shape"
   ]
  },
  {
   "cell_type": "markdown",
   "id": "e6e1940a",
   "metadata": {},
   "source": [
    "### adding features for reports/analysis"
   ]
  },
  {
   "cell_type": "markdown",
   "id": "b9b55343",
   "metadata": {},
   "source": [
    "#### contacts mapping"
   ]
  },
  {
   "cell_type": "code",
   "execution_count": 110,
   "id": "d866b1fa",
   "metadata": {},
   "outputs": [
    {
     "data": {
      "text/plain": [
       "(108638, 38)"
      ]
     },
     "execution_count": 110,
     "metadata": {},
     "output_type": "execute_result"
    }
   ],
   "source": [
    "cattle_sold.shape"
   ]
  },
  {
   "cell_type": "code",
   "execution_count": 111,
   "id": "38e9ebc3",
   "metadata": {},
   "outputs": [
    {
     "data": {
      "text/plain": [
       "(25552, 2)"
      ]
     },
     "execution_count": 111,
     "metadata": {},
     "output_type": "execute_result"
    }
   ],
   "source": [
    "contacts_cattle_id.shape"
   ]
  },
  {
   "cell_type": "code",
   "execution_count": 112,
   "id": "e45f6768",
   "metadata": {},
   "outputs": [],
   "source": [
    "cattle_sold = cattle_sold.merge(contacts_cattle_id, left_on='cattle_id', right_on='cattle_id', how='left').fillna(-999)\n"
   ]
  },
  {
   "cell_type": "code",
   "execution_count": 113,
   "id": "97050dc8",
   "metadata": {},
   "outputs": [],
   "source": [
    "cattle_sold['contact_number'] = cattle_sold['contact_number'].astype(int)"
   ]
  },
  {
   "cell_type": "code",
   "execution_count": 114,
   "id": "ef28e8dc",
   "metadata": {},
   "outputs": [
    {
     "data": {
      "text/plain": [
       "(108638, 39)"
      ]
     },
     "execution_count": 114,
     "metadata": {},
     "output_type": "execute_result"
    }
   ],
   "source": [
    "cattle_sold.shape"
   ]
  },
  {
   "cell_type": "markdown",
   "id": "2cf0f799",
   "metadata": {},
   "source": [
    "#### gmap lat long mapping"
   ]
  },
  {
   "cell_type": "code",
   "execution_count": 118,
   "id": "6e07d550",
   "metadata": {},
   "outputs": [],
   "source": [
    "gmap_lat_long_df = gmap_lat_long_mapping_df[['lat_long','GLat','GLong','lat_long_gmap','Pincode','Distance']].copy()"
   ]
  },
  {
   "cell_type": "code",
   "execution_count": 119,
   "id": "54d5ed1e",
   "metadata": {},
   "outputs": [],
   "source": [
    "gmap_lat_long_df = gmap_lat_long_df.rename(columns={'Pincode':'gmap_pincode',\\\n",
    "                                 'GLong':'gmap_long',\\\n",
    "                                 'GLat':'gmap_lat',\\\n",
    "                                })"
   ]
  },
  {
   "cell_type": "code",
   "execution_count": 121,
   "id": "a639ba77",
   "metadata": {},
   "outputs": [],
   "source": [
    "cattle_sold = cattle_sold.merge(gmap_lat_long_df, left_on='lat_long', right_on='lat_long', how='left').fillna(-999)"
   ]
  },
  {
   "cell_type": "code",
   "execution_count": 122,
   "id": "c64c056c",
   "metadata": {},
   "outputs": [],
   "source": [
    "cattle_sold['gmap_pincode'] = cattle_sold['gmap_pincode'].astype(int)"
   ]
  },
  {
   "cell_type": "code",
   "execution_count": 123,
   "id": "8616e8f2",
   "metadata": {},
   "outputs": [
    {
     "data": {
      "text/plain": [
       "(108638, 44)"
      ]
     },
     "execution_count": 123,
     "metadata": {},
     "output_type": "execute_result"
    }
   ],
   "source": [
    "cattle_sold.shape"
   ]
  },
  {
   "cell_type": "markdown",
   "id": "c7750b88",
   "metadata": {},
   "source": [
    "#### pincode state and district mapping"
   ]
  },
  {
   "cell_type": "code",
   "execution_count": 125,
   "id": "d57a19c3",
   "metadata": {},
   "outputs": [
    {
     "data": {
      "text/plain": [
       "(108638, 44)"
      ]
     },
     "execution_count": 125,
     "metadata": {},
     "output_type": "execute_result"
    }
   ],
   "source": [
    "cattle_sold.shape"
   ]
  },
  {
   "cell_type": "code",
   "execution_count": 126,
   "id": "fdbe297d",
   "metadata": {},
   "outputs": [],
   "source": [
    "cattle_sold = cattle_sold.merge(pincodes_df, left_on='gmap_pincode', right_on='gmap_pincode', how='left').fillna('-')"
   ]
  },
  {
   "cell_type": "code",
   "execution_count": 128,
   "id": "dbc94ea9",
   "metadata": {},
   "outputs": [],
   "source": [
    "cattle_sold['gmap_lat_long'] = cattle_sold.apply(lambda x: str(x['gmap_lat'])+\",\"+str(x['gmap_long']), axis=1)\n",
    "cattle_sold['gmap_district_state'] = cattle_sold.apply(lambda x: str(x['gmap_district'])+\",\"+str(x['gmap_state']), axis=1)\n",
    "cattle_sold['gmap_pincode_district_state'] = cattle_sold.apply(lambda x: str(x['gmap_pincode'])+\",\"+str(x['gmap_district'])+\",\"+str(x['gmap_state']), axis=1)\n"
   ]
  },
  {
   "cell_type": "code",
   "execution_count": 129,
   "id": "d226f3da",
   "metadata": {},
   "outputs": [],
   "source": [
    "cattle_sold = cattle_sold.reset_index(drop=True)"
   ]
  },
  {
   "cell_type": "code",
   "execution_count": 130,
   "id": "5b86f3a3",
   "metadata": {},
   "outputs": [
    {
     "data": {
      "text/plain": [
       "(108638, 49)"
      ]
     },
     "execution_count": 130,
     "metadata": {},
     "output_type": "execute_result"
    }
   ],
   "source": [
    "cattle_sold.shape"
   ]
  },
  {
   "cell_type": "markdown",
   "id": "6be679d6",
   "metadata": {},
   "source": [
    "#### adding week names and date features"
   ]
  },
  {
   "cell_type": "code",
   "execution_count": 131,
   "id": "777f35cf",
   "metadata": {},
   "outputs": [
    {
     "data": {
      "text/plain": [
       "(108638, 49)"
      ]
     },
     "execution_count": 131,
     "metadata": {},
     "output_type": "execute_result"
    }
   ],
   "source": [
    "cattle_sold.shape"
   ]
  },
  {
   "cell_type": "code",
   "execution_count": 132,
   "id": "720e7bdc",
   "metadata": {},
   "outputs": [],
   "source": [
    "cattle_sold['month_of_sale'] = cattle_sold['date_scraped'].dt.month_name()\n",
    "cattle_sold['week_of_sale'] = (cattle_sold['date_scraped']+pd.DateOffset(1)).dt.isocalendar().week\n",
    "cattle_sold['year_of_sale'] = cattle_sold['date_scraped'].dt.year\n",
    "cattle_sold['weekday'] = cattle_sold['date_scraped'].dt.strftime('%A')\n",
    "cattle_sold['week_start_date'] = cattle_sold['date_scraped'].apply(lambda x: (x-timedelta(days=(x.weekday()+1)%7)).strftime('%d %b'))\n",
    "cattle_sold['week_end_date'] = cattle_sold['date_scraped'].apply(lambda x: (x-timedelta(days=(x.weekday()+1)%7) + timedelta(days=6)).strftime('%d %b'))\n",
    "cattle_sold['sale_week'] = cattle_sold.apply(lambda x: str(x['week_start_date']) + \" - \" + str(x['week_end_date']), axis=1)\n",
    "cattle_sold['sale_day'] = cattle_sold['date_scraped'].apply(lambda x: str(x.strftime('%d %b')) + \": \" + str(x.strftime('%a')))\n",
    "cattle_sold['business_week_name'] = cattle_sold.apply(lambda x: str(x['week_of_sale'])+\": \"+str(x['sale_week']), axis=1)\n"
   ]
  },
  {
   "cell_type": "code",
   "execution_count": 133,
   "id": "bdba276d",
   "metadata": {},
   "outputs": [
    {
     "data": {
      "text/plain": [
       "(108638, 58)"
      ]
     },
     "execution_count": 133,
     "metadata": {},
     "output_type": "execute_result"
    }
   ],
   "source": [
    "cattle_sold.shape"
   ]
  },
  {
   "cell_type": "markdown",
   "id": "2e259bf5",
   "metadata": {},
   "source": [
    "#### renaming and standardizing the column names"
   ]
  },
  {
   "cell_type": "code",
   "execution_count": 134,
   "id": "e85b2458",
   "metadata": {},
   "outputs": [],
   "source": [
    "# making a copy of the dataframe\n",
    "data = cattle_sold.copy()"
   ]
  },
  {
   "cell_type": "code",
   "execution_count": 135,
   "id": "79c08560",
   "metadata": {},
   "outputs": [],
   "source": [
    "# standardizing column names for google cloud storage\n",
    "col_names_mapping = {'viewCount':'view_count_animall',\\\n",
    "                     'callCount':'call_count_animall',\\\n",
    "                     '_score':'score',\\\n",
    "                     'long':'listing_long',\\\n",
    "                     'lat':'listing_lat',\\\n",
    "                     'highestMilk':'highest_milk',\\\n",
    "                     'locationName':'location_name',\\\n",
    "                     'isNegotiable':'is_negotiable',\\\n",
    "                     'publishedOn':'published_on',\\\n",
    "                     'currentMilk':'current_milk',\\\n",
    "                     'deliveredBefore':'delivered_before',\\\n",
    "                     'hasDelivered':'has_delivered',\\\n",
    "                     'isPregnant':'is_pregnant',\\\n",
    "                     'pregnancyMonth':'pregnancy_month',\\\n",
    "                     'age':'cattle_age',\\\n",
    "                     'animalType':'animal_type',\\\n",
    "                     'partnerId':'partner_id',\\\n",
    "                     'hasContacted':'has_contacted',\\\n",
    "                    }"
   ]
  },
  {
   "cell_type": "code",
   "execution_count": 136,
   "id": "d15f7e30",
   "metadata": {},
   "outputs": [],
   "source": [
    "# renaming columns\n",
    "data = data.rename(columns=col_names_mapping)"
   ]
  },
  {
   "cell_type": "markdown",
   "id": "66cc80f1",
   "metadata": {},
   "source": [
    "#### standardizing the column data types"
   ]
  },
  {
   "cell_type": "code",
   "execution_count": 137,
   "id": "a1434a1a",
   "metadata": {},
   "outputs": [],
   "source": [
    "data['distance'] = data['distance'].astype(float)\n",
    "data['rating'] = data['rating'].astype(float)\n",
    "data['view_count_animall'] = data['view_count_animall'].astype(int)\n",
    "data['call_count_animall'] = data['call_count_animall'].astype(int)\n",
    "data['recency'] = data['recency'].astype(int)\n",
    "data['score'] = data['score'].astype(float)\n",
    "data['listing_long'] = data['listing_long'].astype(float)\n",
    "data['listing_lat'] = data['listing_lat'].astype(float)\n",
    "data['highest_milk'] = data['highest_milk'].astype(float)\n",
    "data['is_negotiable'] = data['is_negotiable'].astype(int)\n",
    "data['published_on'] = pd.to_datetime(data['published_on'])\n",
    "data['current_milk'] = data['current_milk'].astype(float)\n",
    "data['delivered_before'] = data['delivered_before'].apply(lambda x: float(x) if x!='-' else x)\n",
    "data['has_delivered'] = data['has_delivered'].apply(lambda x: float(x) if x!='-' else x)\n",
    "data['is_pregnant'] = data['is_pregnant'].apply(lambda x: float(x) if x!='-' else x)\n",
    "data['pregnancy_month'] = data['pregnancy_month'].apply(lambda x: float(x) if x!='-' else x)\n",
    "data['price'] = data['price'].astype(float)\n",
    "data['cattle_age'] = data['cattle_age'].astype(float)\n",
    "data['lactation'] = data['lactation'].astype(int)\n",
    "data['date_scraped'] = pd.to_datetime(data['date_scraped'])\n",
    "data['file_age'] = data['file_age'].astype(int)\n",
    "data['days_to_sell'] = data['days_to_sell'].apply(lambda x: int(x) if len(str(x))<=2 else x)\n",
    "data['week_of_sale'] = data['week_of_sale'].apply(lambda x: int(x) if x!='UNSOLD' else x)\n",
    "data['year_of_sale'] = data['year_of_sale'].apply(lambda x: int(x) if x!='UNSOLD' else x)\n",
    "data['gmap_pincode'] = data['gmap_pincode'].apply(lambda x: int(x) if x!='-' else x)\n",
    "data['contact_number'] = data['contact_number'].apply(lambda x: int(x) if x not in ['NA','-'] else x)"
   ]
  },
  {
   "cell_type": "markdown",
   "id": "709cce49",
   "metadata": {},
   "source": [
    "### converting to parquet"
   ]
  },
  {
   "cell_type": "code",
   "execution_count": 138,
   "id": "60c0c6b7",
   "metadata": {},
   "outputs": [],
   "source": [
    "data.to_parquet('furnished_data/cattle_sold_data.parquet', index=False)"
   ]
  },
  {
   "cell_type": "markdown",
   "id": "a7f91800",
   "metadata": {},
   "source": [
    "### creating a bucket on google cloud storage for final furnished data"
   ]
  },
  {
   "cell_type": "code",
   "execution_count": 139,
   "id": "0d04409f",
   "metadata": {},
   "outputs": [],
   "source": [
    "# # declaring the bucket name to be created\n",
    "# bucket_name = 'ds_competitor_1_marketplace_reporting'\n",
    "\n",
    "# # create a new bucket\n",
    "# new_bucket = storage_client.bucket(bucket_name)\n",
    "# new_bucket.storage_class = 'STANDARD'\n",
    "\n",
    "# # returns Bucket object\n",
    "# created_bucket = storage_client.create_bucket(new_bucket, location='asia-south1')"
   ]
  },
  {
   "cell_type": "markdown",
   "id": "60b2dac6",
   "metadata": {},
   "source": [
    "### pushing to google cloud storage bucket"
   ]
  },
  {
   "cell_type": "code",
   "execution_count": 140,
   "id": "78a382ee",
   "metadata": {},
   "outputs": [],
   "source": [
    "# declaring the bucket name from which the date needs to be fetched\n",
    "bucket_name = 'ds_competitor_1_marketplace_reporting'\n",
    "\n",
    "# get the bucket object from the storage_client\n",
    "bucket = storage_client.get_bucket(bucket_name)"
   ]
  },
  {
   "cell_type": "code",
   "execution_count": 141,
   "id": "e81c7537",
   "metadata": {},
   "outputs": [],
   "source": [
    "# Name of the object to be stored in the bucket\n",
    "object_name_in_bucket = bucket.blob('movement_analysis.parquet')\n",
    "\n",
    "# local folder name\n",
    "local_folder = os.getcwd()\n",
    "\n",
    "# local file location\n",
    "filename = \"%s/%s\" % (local_folder, 'furnished_data/cattle_sold_data.parquet')\n",
    "\n",
    "# Name of the object in local file system\n",
    "object_name_in_bucket.upload_from_filename(filename)"
   ]
  },
  {
   "cell_type": "markdown",
   "id": "a1e4db0f",
   "metadata": {},
   "source": [
    "### reading parquet file"
   ]
  },
  {
   "cell_type": "code",
   "execution_count": 142,
   "id": "59db3fb9",
   "metadata": {},
   "outputs": [],
   "source": [
    "movement_analysis_df = pd.read_parquet('furnished_data/cattle_sold_data.parquet', engine='fastparquet')"
   ]
  },
  {
   "cell_type": "code",
   "execution_count": 143,
   "id": "8e5a4ede",
   "metadata": {},
   "outputs": [
    {
     "data": {
      "text/plain": [
       "(108638, 58)"
      ]
     },
     "execution_count": 143,
     "metadata": {},
     "output_type": "execute_result"
    }
   ],
   "source": [
    "movement_analysis_df.shape"
   ]
  },
  {
   "cell_type": "code",
   "execution_count": 144,
   "id": "05c4c455",
   "metadata": {},
   "outputs": [
    {
     "data": {
      "text/html": [
       "<div>\n",
       "<style scoped>\n",
       "    .dataframe tbody tr th:only-of-type {\n",
       "        vertical-align: middle;\n",
       "    }\n",
       "\n",
       "    .dataframe tbody tr th {\n",
       "        vertical-align: top;\n",
       "    }\n",
       "\n",
       "    .dataframe thead th {\n",
       "        text-align: right;\n",
       "    }\n",
       "</style>\n",
       "<table border=\"1\" class=\"dataframe\">\n",
       "  <thead>\n",
       "    <tr style=\"text-align: right;\">\n",
       "      <th></th>\n",
       "      <th>cattle_id</th>\n",
       "      <th>seller_id</th>\n",
       "      <th>distance</th>\n",
       "      <th>rating</th>\n",
       "      <th>view_count_animall</th>\n",
       "      <th>call_count_animall</th>\n",
       "      <th>recency</th>\n",
       "      <th>score</th>\n",
       "      <th>listing_long</th>\n",
       "      <th>listing_lat</th>\n",
       "      <th>gender</th>\n",
       "      <th>listing_status</th>\n",
       "      <th>highest_milk</th>\n",
       "      <th>seller_name</th>\n",
       "      <th>location_name</th>\n",
       "      <th>is_negotiable</th>\n",
       "      <th>published_on</th>\n",
       "      <th>current_milk</th>\n",
       "      <th>delivered_before</th>\n",
       "      <th>has_delivered</th>\n",
       "      <th>is_pregnant</th>\n",
       "      <th>pregnancy_month</th>\n",
       "      <th>price</th>\n",
       "      <th>cattle_age</th>\n",
       "      <th>animal_type</th>\n",
       "      <th>breed</th>\n",
       "      <th>calf</th>\n",
       "      <th>lactation</th>\n",
       "      <th>partner_id</th>\n",
       "      <th>has_contacted</th>\n",
       "      <th>type</th>\n",
       "      <th>coordinates</th>\n",
       "      <th>date_scraped</th>\n",
       "      <th>listing_state</th>\n",
       "      <th>file_age</th>\n",
       "      <th>lat_long</th>\n",
       "      <th>days_to_sell</th>\n",
       "      <th>sold_status</th>\n",
       "      <th>contact_number</th>\n",
       "      <th>gmap_lat</th>\n",
       "      <th>gmap_long</th>\n",
       "      <th>lat_long_gmap</th>\n",
       "      <th>gmap_pincode</th>\n",
       "      <th>Distance</th>\n",
       "      <th>gmap_district</th>\n",
       "      <th>gmap_state</th>\n",
       "      <th>gmap_lat_long</th>\n",
       "      <th>gmap_district_state</th>\n",
       "      <th>gmap_pincode_district_state</th>\n",
       "      <th>month_of_sale</th>\n",
       "      <th>week_of_sale</th>\n",
       "      <th>year_of_sale</th>\n",
       "      <th>weekday</th>\n",
       "      <th>week_start_date</th>\n",
       "      <th>week_end_date</th>\n",
       "      <th>sale_week</th>\n",
       "      <th>sale_day</th>\n",
       "      <th>business_week_name</th>\n",
       "    </tr>\n",
       "  </thead>\n",
       "  <tbody>\n",
       "    <tr>\n",
       "      <th>31497</th>\n",
       "      <td>62f8db65f9a6e7000b9f0486</td>\n",
       "      <td>15500677950</td>\n",
       "      <td>10814.0</td>\n",
       "      <td>2.00</td>\n",
       "      <td>8</td>\n",
       "      <td>0</td>\n",
       "      <td>5</td>\n",
       "      <td>92.283598</td>\n",
       "      <td>74.8571</td>\n",
       "      <td>28.1716</td>\n",
       "      <td>FEMALE</td>\n",
       "      <td>ACTIVE</td>\n",
       "      <td>15.0</td>\n",
       "      <td>Madosingh</td>\n",
       "      <td>सुरतपुरा, Churu Tehsil, Churu, राजस्थान</td>\n",
       "      <td>1</td>\n",
       "      <td>2022-08-14 16:57:26.810000+05:30</td>\n",
       "      <td>0.0</td>\n",
       "      <td>-999.0</td>\n",
       "      <td>0.0</td>\n",
       "      <td>1.0</td>\n",
       "      <td>9.0</td>\n",
       "      <td>90000.0</td>\n",
       "      <td>0.0</td>\n",
       "      <td>BUFFALO</td>\n",
       "      <td>MURRAH CROSS</td>\n",
       "      <td>-</td>\n",
       "      <td>4</td>\n",
       "      <td>-999.0</td>\n",
       "      <td>-999.0</td>\n",
       "      <td>0</td>\n",
       "      <td>0</td>\n",
       "      <td>2022-08-20</td>\n",
       "      <td>RAJASTHAN</td>\n",
       "      <td>41</td>\n",
       "      <td>28.1716,74.8571</td>\n",
       "      <td>7</td>\n",
       "      <td>Yes</td>\n",
       "      <td>-999</td>\n",
       "      <td>28.1788</td>\n",
       "      <td>74.8683</td>\n",
       "      <td>28.1788,74.8683</td>\n",
       "      <td>331022</td>\n",
       "      <td>1.626</td>\n",
       "      <td>CHURU</td>\n",
       "      <td>RAJASTHAN</td>\n",
       "      <td>28.1788,74.8683</td>\n",
       "      <td>CHURU,RAJASTHAN</td>\n",
       "      <td>331022,CHURU,RAJASTHAN</td>\n",
       "      <td>August</td>\n",
       "      <td>33</td>\n",
       "      <td>2022</td>\n",
       "      <td>Saturday</td>\n",
       "      <td>14 Aug</td>\n",
       "      <td>20 Aug</td>\n",
       "      <td>14 Aug - 20 Aug</td>\n",
       "      <td>20 Aug: Sat</td>\n",
       "      <td>33: 14 Aug - 20 Aug</td>\n",
       "    </tr>\n",
       "    <tr>\n",
       "      <th>64860</th>\n",
       "      <td>6316f2c2595b58000aa25520</td>\n",
       "      <td>15506060828</td>\n",
       "      <td>38481.0</td>\n",
       "      <td>4.08</td>\n",
       "      <td>33</td>\n",
       "      <td>0</td>\n",
       "      <td>2</td>\n",
       "      <td>89.863110</td>\n",
       "      <td>74.6869</td>\n",
       "      <td>29.1767</td>\n",
       "      <td>FEMALE</td>\n",
       "      <td>ACTIVE</td>\n",
       "      <td>7.0</td>\n",
       "      <td>AnilSinwar</td>\n",
       "      <td>Sonri, Nohar Tehsil, Hanumangarh District, Raj...</td>\n",
       "      <td>0</td>\n",
       "      <td>2022-09-07 09:52:22.507000+05:30</td>\n",
       "      <td>7.0</td>\n",
       "      <td>-999.0</td>\n",
       "      <td>-999.0</td>\n",
       "      <td>-999.0</td>\n",
       "      <td>-999.0</td>\n",
       "      <td>15000.0</td>\n",
       "      <td>5.0</td>\n",
       "      <td>COW</td>\n",
       "      <td>DESI</td>\n",
       "      <td>-</td>\n",
       "      <td>3</td>\n",
       "      <td>-999.0</td>\n",
       "      <td>-999.0</td>\n",
       "      <td>0</td>\n",
       "      <td>0</td>\n",
       "      <td>2022-09-10</td>\n",
       "      <td>HARYANA</td>\n",
       "      <td>20</td>\n",
       "      <td>29.1767,74.6869</td>\n",
       "      <td>4</td>\n",
       "      <td>Yes</td>\n",
       "      <td>-999</td>\n",
       "      <td>29.1767</td>\n",
       "      <td>74.6869</td>\n",
       "      <td>29.1767,74.6869</td>\n",
       "      <td>335523</td>\n",
       "      <td>0.005</td>\n",
       "      <td>HANUMANGARH</td>\n",
       "      <td>RAJASTHAN</td>\n",
       "      <td>29.1767,74.6869</td>\n",
       "      <td>HANUMANGARH,RAJASTHAN</td>\n",
       "      <td>335523,HANUMANGARH,RAJASTHAN</td>\n",
       "      <td>September</td>\n",
       "      <td>36</td>\n",
       "      <td>2022</td>\n",
       "      <td>Saturday</td>\n",
       "      <td>04 Sep</td>\n",
       "      <td>10 Sep</td>\n",
       "      <td>04 Sep - 10 Sep</td>\n",
       "      <td>10 Sep: Sat</td>\n",
       "      <td>36: 04 Sep - 10 Sep</td>\n",
       "    </tr>\n",
       "    <tr>\n",
       "      <th>45864</th>\n",
       "      <td>630441e2a8de2c000ba14c57</td>\n",
       "      <td>15505065794</td>\n",
       "      <td>45111.0</td>\n",
       "      <td>3.73</td>\n",
       "      <td>3</td>\n",
       "      <td>1</td>\n",
       "      <td>7</td>\n",
       "      <td>84.544794</td>\n",
       "      <td>81.7915</td>\n",
       "      <td>25.0605</td>\n",
       "      <td>FEMALE</td>\n",
       "      <td>ACTIVE</td>\n",
       "      <td>0.0</td>\n",
       "      <td>Umakant yadav</td>\n",
       "      <td>Koraon, प्रयागराज, उत्तर प्रदेश 212306</td>\n",
       "      <td>0</td>\n",
       "      <td>2022-08-23 12:16:41.403000+05:30</td>\n",
       "      <td>4.5</td>\n",
       "      <td>-999.0</td>\n",
       "      <td>-999.0</td>\n",
       "      <td>-999.0</td>\n",
       "      <td>-999.0</td>\n",
       "      <td>55000.0</td>\n",
       "      <td>0.0</td>\n",
       "      <td>BUFFALO</td>\n",
       "      <td>KUNDI</td>\n",
       "      <td>-</td>\n",
       "      <td>3</td>\n",
       "      <td>-999.0</td>\n",
       "      <td>-999.0</td>\n",
       "      <td>0</td>\n",
       "      <td>0</td>\n",
       "      <td>2022-08-30</td>\n",
       "      <td>UTTAR PRADESH</td>\n",
       "      <td>31</td>\n",
       "      <td>25.0605,81.7915</td>\n",
       "      <td>8</td>\n",
       "      <td>Yes</td>\n",
       "      <td>-999</td>\n",
       "      <td>25.0343</td>\n",
       "      <td>81.7596</td>\n",
       "      <td>25.0343,81.7596</td>\n",
       "      <td>212106</td>\n",
       "      <td>5.211</td>\n",
       "      <td>PRAYAGRAJ</td>\n",
       "      <td>UTTAR PRADESH</td>\n",
       "      <td>25.0343,81.7596</td>\n",
       "      <td>PRAYAGRAJ,UTTAR PRADESH</td>\n",
       "      <td>212106,PRAYAGRAJ,UTTAR PRADESH</td>\n",
       "      <td>August</td>\n",
       "      <td>35</td>\n",
       "      <td>2022</td>\n",
       "      <td>Tuesday</td>\n",
       "      <td>28 Aug</td>\n",
       "      <td>03 Sep</td>\n",
       "      <td>28 Aug - 03 Sep</td>\n",
       "      <td>30 Aug: Tue</td>\n",
       "      <td>35: 28 Aug - 03 Sep</td>\n",
       "    </tr>\n",
       "    <tr>\n",
       "      <th>108151</th>\n",
       "      <td>63314c855eb190000afdad3a</td>\n",
       "      <td>15504228723</td>\n",
       "      <td>24107.0</td>\n",
       "      <td>4.47</td>\n",
       "      <td>51</td>\n",
       "      <td>5</td>\n",
       "      <td>1</td>\n",
       "      <td>92.422671</td>\n",
       "      <td>76.5719</td>\n",
       "      <td>28.9034</td>\n",
       "      <td>FEMALE</td>\n",
       "      <td>ACTIVE</td>\n",
       "      <td>12.0</td>\n",
       "      <td>Rajiv</td>\n",
       "      <td>Rohtak, Haryana, 124001, India</td>\n",
       "      <td>0</td>\n",
       "      <td>2022-09-27 14:35:19.677000+05:30</td>\n",
       "      <td>12.0</td>\n",
       "      <td>-999.0</td>\n",
       "      <td>-999.0</td>\n",
       "      <td>-999.0</td>\n",
       "      <td>-999.0</td>\n",
       "      <td>87000.0</td>\n",
       "      <td>6.0</td>\n",
       "      <td>BUFFALO</td>\n",
       "      <td>MURRAH</td>\n",
       "      <td>-</td>\n",
       "      <td>3</td>\n",
       "      <td>-999.0</td>\n",
       "      <td>-999.0</td>\n",
       "      <td>0</td>\n",
       "      <td>0</td>\n",
       "      <td>2022-09-29</td>\n",
       "      <td>HARYANA</td>\n",
       "      <td>1</td>\n",
       "      <td>28.9034,76.5719</td>\n",
       "      <td>-999</td>\n",
       "      <td>UNSOLD</td>\n",
       "      <td>-999</td>\n",
       "      <td>28.8994</td>\n",
       "      <td>76.5532</td>\n",
       "      <td>28.8994,76.5532</td>\n",
       "      <td>124001</td>\n",
       "      <td>2.242</td>\n",
       "      <td>ROHTAK</td>\n",
       "      <td>HARYANA</td>\n",
       "      <td>28.8994,76.5532</td>\n",
       "      <td>ROHTAK,HARYANA</td>\n",
       "      <td>124001,ROHTAK,HARYANA</td>\n",
       "      <td>September</td>\n",
       "      <td>39</td>\n",
       "      <td>2022</td>\n",
       "      <td>Thursday</td>\n",
       "      <td>25 Sep</td>\n",
       "      <td>01 Oct</td>\n",
       "      <td>25 Sep - 01 Oct</td>\n",
       "      <td>29 Sep: Thu</td>\n",
       "      <td>39: 25 Sep - 01 Oct</td>\n",
       "    </tr>\n",
       "    <tr>\n",
       "      <th>55719</th>\n",
       "      <td>630d7a8c80998e000b4de8c5</td>\n",
       "      <td>15504175409</td>\n",
       "      <td>12491.0</td>\n",
       "      <td>3.80</td>\n",
       "      <td>87</td>\n",
       "      <td>12</td>\n",
       "      <td>5</td>\n",
       "      <td>91.533252</td>\n",
       "      <td>77.7690</td>\n",
       "      <td>28.8830</td>\n",
       "      <td>FEMALE</td>\n",
       "      <td>ACTIVE</td>\n",
       "      <td>3.0</td>\n",
       "      <td>yahyayahya</td>\n",
       "      <td>मेरठ, Meerut, मेरठ, उत्तर प्रदेश 250001</td>\n",
       "      <td>1</td>\n",
       "      <td>2022-08-31 07:47:21.997000+05:30</td>\n",
       "      <td>3.0</td>\n",
       "      <td>-999.0</td>\n",
       "      <td>-999.0</td>\n",
       "      <td>-999.0</td>\n",
       "      <td>-999.0</td>\n",
       "      <td>40000.0</td>\n",
       "      <td>0.0</td>\n",
       "      <td>BUFFALO</td>\n",
       "      <td>MURRAH CROSS</td>\n",
       "      <td>-</td>\n",
       "      <td>2</td>\n",
       "      <td>-999.0</td>\n",
       "      <td>-999.0</td>\n",
       "      <td>0</td>\n",
       "      <td>0</td>\n",
       "      <td>2022-09-05</td>\n",
       "      <td>UTTAR PRADESH</td>\n",
       "      <td>25</td>\n",
       "      <td>28.883,77.769</td>\n",
       "      <td>6</td>\n",
       "      <td>Yes</td>\n",
       "      <td>-999</td>\n",
       "      <td>28.8645</td>\n",
       "      <td>77.7468</td>\n",
       "      <td>28.8645,77.7468</td>\n",
       "      <td>245206</td>\n",
       "      <td>3.580</td>\n",
       "      <td>MEERUT</td>\n",
       "      <td>UTTAR PRADESH</td>\n",
       "      <td>28.8645,77.7468</td>\n",
       "      <td>MEERUT,UTTAR PRADESH</td>\n",
       "      <td>245206,MEERUT,UTTAR PRADESH</td>\n",
       "      <td>September</td>\n",
       "      <td>36</td>\n",
       "      <td>2022</td>\n",
       "      <td>Monday</td>\n",
       "      <td>04 Sep</td>\n",
       "      <td>10 Sep</td>\n",
       "      <td>04 Sep - 10 Sep</td>\n",
       "      <td>05 Sep: Mon</td>\n",
       "      <td>36: 04 Sep - 10 Sep</td>\n",
       "    </tr>\n",
       "  </tbody>\n",
       "</table>\n",
       "</div>"
      ],
      "text/plain": [
       "                       cattle_id    seller_id  distance  rating  \\\n",
       "31497   62f8db65f9a6e7000b9f0486  15500677950   10814.0    2.00   \n",
       "64860   6316f2c2595b58000aa25520  15506060828   38481.0    4.08   \n",
       "45864   630441e2a8de2c000ba14c57  15505065794   45111.0    3.73   \n",
       "108151  63314c855eb190000afdad3a  15504228723   24107.0    4.47   \n",
       "55719   630d7a8c80998e000b4de8c5  15504175409   12491.0    3.80   \n",
       "\n",
       "        view_count_animall  call_count_animall  recency      score  \\\n",
       "31497                    8                   0        5  92.283598   \n",
       "64860                   33                   0        2  89.863110   \n",
       "45864                    3                   1        7  84.544794   \n",
       "108151                  51                   5        1  92.422671   \n",
       "55719                   87                  12        5  91.533252   \n",
       "\n",
       "        listing_long  listing_lat  gender listing_status  highest_milk  \\\n",
       "31497        74.8571      28.1716  FEMALE         ACTIVE          15.0   \n",
       "64860        74.6869      29.1767  FEMALE         ACTIVE           7.0   \n",
       "45864        81.7915      25.0605  FEMALE         ACTIVE           0.0   \n",
       "108151       76.5719      28.9034  FEMALE         ACTIVE          12.0   \n",
       "55719        77.7690      28.8830  FEMALE         ACTIVE           3.0   \n",
       "\n",
       "          seller_name                                      location_name  \\\n",
       "31497       Madosingh            सुरतपुरा, Churu Tehsil, Churu, राजस्थान   \n",
       "64860      AnilSinwar  Sonri, Nohar Tehsil, Hanumangarh District, Raj...   \n",
       "45864   Umakant yadav             Koraon, प्रयागराज, उत्तर प्रदेश 212306   \n",
       "108151          Rajiv                     Rohtak, Haryana, 124001, India   \n",
       "55719      yahyayahya            मेरठ, Meerut, मेरठ, उत्तर प्रदेश 250001   \n",
       "\n",
       "        is_negotiable                     published_on  current_milk  \\\n",
       "31497               1 2022-08-14 16:57:26.810000+05:30           0.0   \n",
       "64860               0 2022-09-07 09:52:22.507000+05:30           7.0   \n",
       "45864               0 2022-08-23 12:16:41.403000+05:30           4.5   \n",
       "108151              0 2022-09-27 14:35:19.677000+05:30          12.0   \n",
       "55719               1 2022-08-31 07:47:21.997000+05:30           3.0   \n",
       "\n",
       "        delivered_before  has_delivered  is_pregnant  pregnancy_month  \\\n",
       "31497             -999.0            0.0          1.0              9.0   \n",
       "64860             -999.0         -999.0       -999.0           -999.0   \n",
       "45864             -999.0         -999.0       -999.0           -999.0   \n",
       "108151            -999.0         -999.0       -999.0           -999.0   \n",
       "55719             -999.0         -999.0       -999.0           -999.0   \n",
       "\n",
       "          price  cattle_age animal_type         breed calf  lactation  \\\n",
       "31497   90000.0         0.0     BUFFALO  MURRAH CROSS    -          4   \n",
       "64860   15000.0         5.0         COW          DESI    -          3   \n",
       "45864   55000.0         0.0     BUFFALO         KUNDI    -          3   \n",
       "108151  87000.0         6.0     BUFFALO        MURRAH    -          3   \n",
       "55719   40000.0         0.0     BUFFALO  MURRAH CROSS    -          2   \n",
       "\n",
       "        partner_id  has_contacted  type  coordinates date_scraped  \\\n",
       "31497       -999.0         -999.0     0            0   2022-08-20   \n",
       "64860       -999.0         -999.0     0            0   2022-09-10   \n",
       "45864       -999.0         -999.0     0            0   2022-08-30   \n",
       "108151      -999.0         -999.0     0            0   2022-09-29   \n",
       "55719       -999.0         -999.0     0            0   2022-09-05   \n",
       "\n",
       "        listing_state  file_age         lat_long  days_to_sell sold_status  \\\n",
       "31497       RAJASTHAN        41  28.1716,74.8571             7         Yes   \n",
       "64860         HARYANA        20  29.1767,74.6869             4         Yes   \n",
       "45864   UTTAR PRADESH        31  25.0605,81.7915             8         Yes   \n",
       "108151        HARYANA         1  28.9034,76.5719          -999      UNSOLD   \n",
       "55719   UTTAR PRADESH        25    28.883,77.769             6         Yes   \n",
       "\n",
       "        contact_number  gmap_lat  gmap_long    lat_long_gmap  gmap_pincode  \\\n",
       "31497             -999   28.1788    74.8683  28.1788,74.8683        331022   \n",
       "64860             -999   29.1767    74.6869  29.1767,74.6869        335523   \n",
       "45864             -999   25.0343    81.7596  25.0343,81.7596        212106   \n",
       "108151            -999   28.8994    76.5532  28.8994,76.5532        124001   \n",
       "55719             -999   28.8645    77.7468  28.8645,77.7468        245206   \n",
       "\n",
       "        Distance gmap_district     gmap_state    gmap_lat_long  \\\n",
       "31497      1.626         CHURU      RAJASTHAN  28.1788,74.8683   \n",
       "64860      0.005   HANUMANGARH      RAJASTHAN  29.1767,74.6869   \n",
       "45864      5.211     PRAYAGRAJ  UTTAR PRADESH  25.0343,81.7596   \n",
       "108151     2.242        ROHTAK        HARYANA  28.8994,76.5532   \n",
       "55719      3.580        MEERUT  UTTAR PRADESH  28.8645,77.7468   \n",
       "\n",
       "            gmap_district_state     gmap_pincode_district_state month_of_sale  \\\n",
       "31497           CHURU,RAJASTHAN          331022,CHURU,RAJASTHAN        August   \n",
       "64860     HANUMANGARH,RAJASTHAN    335523,HANUMANGARH,RAJASTHAN     September   \n",
       "45864   PRAYAGRAJ,UTTAR PRADESH  212106,PRAYAGRAJ,UTTAR PRADESH        August   \n",
       "108151           ROHTAK,HARYANA           124001,ROHTAK,HARYANA     September   \n",
       "55719      MEERUT,UTTAR PRADESH     245206,MEERUT,UTTAR PRADESH     September   \n",
       "\n",
       "        week_of_sale  year_of_sale   weekday week_start_date week_end_date  \\\n",
       "31497             33          2022  Saturday          14 Aug        20 Aug   \n",
       "64860             36          2022  Saturday          04 Sep        10 Sep   \n",
       "45864             35          2022   Tuesday          28 Aug        03 Sep   \n",
       "108151            39          2022  Thursday          25 Sep        01 Oct   \n",
       "55719             36          2022    Monday          04 Sep        10 Sep   \n",
       "\n",
       "              sale_week     sale_day   business_week_name  \n",
       "31497   14 Aug - 20 Aug  20 Aug: Sat  33: 14 Aug - 20 Aug  \n",
       "64860   04 Sep - 10 Sep  10 Sep: Sat  36: 04 Sep - 10 Sep  \n",
       "45864   28 Aug - 03 Sep  30 Aug: Tue  35: 28 Aug - 03 Sep  \n",
       "108151  25 Sep - 01 Oct  29 Sep: Thu  39: 25 Sep - 01 Oct  \n",
       "55719   04 Sep - 10 Sep  05 Sep: Mon  36: 04 Sep - 10 Sep  "
      ]
     },
     "execution_count": 144,
     "metadata": {},
     "output_type": "execute_result"
    }
   ],
   "source": [
    "movement_analysis_df.sample(5)"
   ]
  }
 ],
 "metadata": {
  "kernelspec": {
   "display_name": "Python 3 (ipykernel)",
   "language": "python",
   "name": "python3"
  },
  "language_info": {
   "codemirror_mode": {
    "name": "ipython",
    "version": 3
   },
   "file_extension": ".py",
   "mimetype": "text/x-python",
   "name": "python",
   "nbconvert_exporter": "python",
   "pygments_lexer": "ipython3",
   "version": "3.10.6"
  }
 },
 "nbformat": 4,
 "nbformat_minor": 5
}
