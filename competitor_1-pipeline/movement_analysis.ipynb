{
 "cells": [
  {
   "cell_type": "markdown",
   "id": "834d86c4",
   "metadata": {},
   "source": [
    "### importing libraries"
   ]
  },
  {
   "cell_type": "code",
   "execution_count": 1,
   "id": "9ca8cb69",
   "metadata": {},
   "outputs": [],
   "source": [
    "from google.cloud import storage\n",
    "from oauth2client.service_account import ServiceAccountCredentials\n",
    "\n",
    "import pandas as pd\n",
    "pd.set_option('display.max_columns', None)\n",
    "\n",
    "import os\n",
    "import csv\n",
    "import json\n",
    "import gzip\n",
    "import glob\n",
    "\n",
    "import haversine as hs\n",
    "\n",
    "from tqdm import tqdm\n",
    "\n",
    "from datetime import datetime, timedelta"
   ]
  },
  {
   "cell_type": "markdown",
   "id": "161a1f3d",
   "metadata": {},
   "source": [
    "### calling the google cloud storage bucket object and pushing not yet uploaded files"
   ]
  },
  {
   "cell_type": "code",
   "execution_count": 2,
   "id": "d834d9d9",
   "metadata": {},
   "outputs": [],
   "source": [
    "# instantiating the google cloud storage client using the credentials\n",
    "storage_client = storage.Client.from_service_account_json('ds_credentials_edit.json')"
   ]
  },
  {
   "cell_type": "code",
   "execution_count": 3,
   "id": "3614d81b",
   "metadata": {},
   "outputs": [],
   "source": [
    "# declaring the bucket name from which the date needs to be fetched\n",
    "bucket_name = 'ds_marketplace-animall_scraped_data'\n",
    "\n",
    "# get the bucket object from the storage_client\n",
    "bucket = storage_client.get_bucket(bucket_name)"
   ]
  },
  {
   "cell_type": "code",
   "execution_count": 4,
   "id": "7af86b83",
   "metadata": {},
   "outputs": [],
   "source": [
    "# declaring empty list to store the filenames that needs to be downloaded from the bucket\n",
    "blob_file_names = []\n",
    "\n",
    "# get names of all the blobs in the bucket\n",
    "for blob_ in bucket.list_blobs():\n",
    "    blob_file_names.append(blob_.name)"
   ]
  },
  {
   "cell_type": "code",
   "execution_count": 5,
   "id": "be8431e2",
   "metadata": {},
   "outputs": [],
   "source": [
    "# crawling through folder to get all the file names with local directory\n",
    "local_path = \"/home/customer/Narada/ScrapedData\"\n",
    "all_folders = glob.glob(local_path + '/**')\n",
    "files_uploaded_dir_remote = []\n",
    "files_uploaded_dir_local = []\n",
    "\n",
    "while len(all_folders)!=0:\n",
    "    local_file = all_folders.pop()\n",
    "    if not os.path.isfile(local_file):\n",
    "        all_folders.extend(glob.glob(local_file + '/**'))\n",
    "    else:\n",
    "        files_uploaded_dir_remote.append(local_file[22:])\n",
    "        files_uploaded_dir_local.append(local_file)"
   ]
  },
  {
   "cell_type": "code",
   "execution_count": 6,
   "id": "6da91c98",
   "metadata": {},
   "outputs": [],
   "source": [
    "# creating dataframe for the directory path and file_names\n",
    "all_file_dir = pd.DataFrame({'remote':files_uploaded_dir_remote,\\\n",
    "                         'local':files_uploaded_dir_local\n",
    "                        })"
   ]
  },
  {
   "cell_type": "code",
   "execution_count": 7,
   "id": "0857c388",
   "metadata": {},
   "outputs": [],
   "source": [
    "# filtering out the files that need to pushed to google cloud storage\n",
    "file_dir = all_file_dir[~all_file_dir['remote'].isin(blob_file_names)].reset_index(drop=True)"
   ]
  },
  {
   "cell_type": "code",
   "execution_count": 8,
   "id": "10f314e5",
   "metadata": {},
   "outputs": [
    {
     "data": {
      "text/plain": [
       "6"
      ]
     },
     "execution_count": 8,
     "metadata": {},
     "output_type": "execute_result"
    }
   ],
   "source": [
    "# count of file to be uploaded to google cloud storage\n",
    "len(file_dir)"
   ]
  },
  {
   "cell_type": "code",
   "execution_count": 9,
   "id": "c54235b8",
   "metadata": {},
   "outputs": [
    {
     "name": "stderr",
     "output_type": "stream",
     "text": [
      "100%|███████████████████████████████████████████████████████████████████████████████████████████████████████████████████████████████████████████████████████████████████████████████████████████████████████████████████████████████████████████████████████████████████████████████████████████| 6/6 [00:22<00:00,  3.74s/it]\n"
     ]
    }
   ],
   "source": [
    "# iterating and trying to upload all data programatically\n",
    "for i in tqdm(range(len(file_dir))):\n",
    "    # Name of the object to be stored in the bucket\n",
    "    object_name_in_bucket = bucket.blob(file_dir['remote'].iloc[i])\n",
    "    \n",
    "    # Name of the object in local file system\n",
    "    object_name_in_bucket.upload_from_filename(file_dir['local'].iloc[i])"
   ]
  },
  {
   "cell_type": "markdown",
   "id": "e81821a4",
   "metadata": {},
   "source": [
    "### segregating and labelling the files into \"Animal Details\", \"Seller Details\" and \"Resource Details\""
   ]
  },
  {
   "cell_type": "code",
   "execution_count": 13,
   "id": "4dfabb07",
   "metadata": {},
   "outputs": [],
   "source": [
    "# segragating \"Animal Details\", \"Resources\" and \"Seller Info\" files\n",
    "def labelling_files(x):\n",
    "    # handling bad files\n",
    "    if len(x.split(\".\")[0])>5:\n",
    "        # splitting \"file name\" into 'sub_file_name_tokens'\n",
    "        sub_file_name_tokens = x.split(\".\")[0].split(\"_\")\n",
    "\n",
    "        # getting 'file_type' - AD/seller/resource\n",
    "        file_type = sub_file_name_tokens[-1]\n",
    "\n",
    "        # getting 'date_scraped'\n",
    "        date_scraped = sub_file_name_tokens[-2]\n",
    "\n",
    "        # getting 'state' (cross checking)\n",
    "        state = sub_file_name_tokens[0]\n",
    "        \n",
    "        # returns data as tuple\n",
    "        return [file_type, date_scraped, state]\n",
    "\n",
    "    else:\n",
    "        return ['NA', 'NA', 'NA']"
   ]
  },
  {
   "cell_type": "code",
   "execution_count": 14,
   "id": "f3d65d51",
   "metadata": {},
   "outputs": [],
   "source": [
    "# getting file_names to segregate and process files\n",
    "file_names = [item.split(\"/\")[-1] for item in files_uploaded_dir_local]"
   ]
  },
  {
   "cell_type": "code",
   "execution_count": 15,
   "id": "f9ffc1b2",
   "metadata": {},
   "outputs": [],
   "source": [
    "# dataFrame with details of all the files in our 'ScrapedData' for 'classified' business\n",
    "file_df = pd.DataFrame({'file_names':file_names,\\\n",
    "                        'location':files_uploaded_dir_local\n",
    "                       })"
   ]
  },
  {
   "cell_type": "code",
   "execution_count": 16,
   "id": "793086d5",
   "metadata": {},
   "outputs": [],
   "source": [
    "# adding metaData to the 'file_df' DataFrame\n",
    "file_df[['file_type','date_scraped','state']] = file_df['file_names'].apply(lambda x:labelling_files(x)).tolist()\n",
    "\n",
    "# dropping 'NA' rows\n",
    "file_df = file_df[file_df['state']!='NA']\n",
    "\n",
    "# converting 'date_scraped' to datetime format, and sorting dataFrame\n",
    "file_df['date_scraped'] = pd.to_datetime(file_df['date_scraped'])\n",
    "file_df.sort_values(by='date_scraped', inplace=True)\n",
    "file_df.reset_index(drop=True, inplace=True)"
   ]
  },
  {
   "cell_type": "code",
   "execution_count": 17,
   "id": "836a5f13",
   "metadata": {},
   "outputs": [],
   "source": [
    "# fetching most recent sample \"classified-animal_details\" excel file\n",
    "AD_files = file_df[file_df['file_type']=='AD'].reset_index(drop=True)\n",
    "\n",
    "# fetching most recent sample \"classified-seller\" excel file\n",
    "seller_files = file_df[file_df['file_type']=='seller'].reset_index(drop=True)\n",
    "\n",
    "# fetching most recent sample \"classified-resource\" excel file\n",
    "resource_files = file_df[file_df['file_type']=='resource'].reset_index(drop=True)"
   ]
  },
  {
   "cell_type": "markdown",
   "id": "fac3f017",
   "metadata": {},
   "source": [
    "### all ANIMAL details files cattle movement analysis"
   ]
  },
  {
   "cell_type": "code",
   "execution_count": 18,
   "id": "58a2592b",
   "metadata": {},
   "outputs": [],
   "source": [
    "# function to concatenate all \"Animal Details\" excel files\n",
    "def get_animal_details(files_df_):\n",
    "    # declaring empty list to concat all dataFrames\n",
    "    dflist = []\n",
    "    \n",
    "    # looping and concatenating\n",
    "    for i in range(len(files_df_)):#[-10] to take most recent 10 days scraped data\n",
    "        \n",
    "        # file_path of all excel files\n",
    "        file_path_ = files_df_['location'].iloc[i]\n",
    "\n",
    "        # reading the file        \n",
    "        df1 = pd.read_excel(file_path_)\n",
    "        df1['date_scraped'] = files_df_['date_scraped'].iloc[i]\n",
    "        df1['date_scraped'] = pd.to_datetime(df1['date_scraped'])\n",
    "        df1['listing_state'] = files_df_['state'].iloc[i]\n",
    "        df1['file_age'] = df1['date_scraped'].apply(lambda x: int((datetime.today() - x).days)+1)\n",
    "        dflist.append(df1)\n",
    "        \n",
    "    # concatenating and dropping index\n",
    "    concatenated_df = pd.concat(dflist).reset_index().drop('index',axis=1)\n",
    "    \n",
    "    # renaming columns\n",
    "    concatenated_df.rename(columns={'_id':'cattle_id','userId':'seller_id', 'seller':'seller_name', 'state':'listing_status'}, inplace=True)\n",
    "    \n",
    "    # returning the concatenated dataFrame\n",
    "    return concatenated_df"
   ]
  },
  {
   "cell_type": "code",
   "execution_count": 19,
   "id": "e51e9116",
   "metadata": {},
   "outputs": [],
   "source": [
    "# calling the dataFrames concatenating function\n",
    "all_animal_details_df = get_animal_details(AD_files)"
   ]
  },
  {
   "cell_type": "code",
   "execution_count": 20,
   "id": "e289851a",
   "metadata": {},
   "outputs": [],
   "source": [
    "# dropping off \"PENDING\" and \"STA\" listing_status - only 2 such instances\n",
    "all_animal_details_df = all_animal_details_df[all_animal_details_df['listing_status']=='ACTIVE']\n",
    "\n",
    "# getting all unique 'cattle_id'\n",
    "all_animal_details_df['cattle_id'] = all_animal_details_df['cattle_id'].astype(str)\n",
    "unique_cattle_ids = list(all_animal_details_df['cattle_id'].unique())\n",
    "\n",
    "# converting columns into 'datetime' format\n",
    "all_animal_details_df['publishedOn'] = pd.to_datetime(all_animal_details_df['publishedOn'])\n",
    "all_animal_details_df['date_scraped'] = pd.to_datetime(all_animal_details_df['date_scraped'])\n",
    "\n",
    "# getting the 'last_scraped_date'\n",
    "last_scraped_date = all_animal_details_df['date_scraped'].max()"
   ]
  },
  {
   "cell_type": "code",
   "execution_count": 21,
   "id": "579fc4c1",
   "metadata": {},
   "outputs": [],
   "source": [
    "# replacing NaN values\n",
    "all_animal_details_df['description'].fillna(\"-\", inplace=True)\n",
    "all_animal_details_df['deliveredBefore'].fillna(-999, inplace=True)\n",
    "all_animal_details_df['hasDelivered'].fillna(-999, inplace=True)\n",
    "all_animal_details_df['isPregnant'].fillna(-999, inplace=True)\n",
    "all_animal_details_df['pregnancyMonth'].fillna(-999, inplace=True)\n",
    "all_animal_details_df['calf'].fillna('-', inplace=True)\n",
    "all_animal_details_df['partnerId'].fillna(-999, inplace=True)\n",
    "all_animal_details_df['hasContacted'].fillna(-999, inplace=True)\n",
    "all_animal_details_df['breed'].fillna(\"-\", inplace=True)\n",
    "\n",
    "# replacing int 0 value with str\n",
    "all_animal_details_df['calf'].replace(0,'-', inplace=True)\n",
    "all_animal_details_df['breed'].replace(0,'-', inplace=True)\n",
    "\n",
    "# dropping redundant columns\n",
    "all_animal_details_df.drop(columns=['description'], inplace=True)\n",
    "all_animal_details_df.drop(columns=['district'], inplace=True)\n",
    "all_animal_details_df.drop(columns=['dynamicLink'], inplace=True)"
   ]
  },
  {
   "cell_type": "code",
   "execution_count": 22,
   "id": "f01a4e05",
   "metadata": {},
   "outputs": [
    {
     "data": {
      "text/plain": [
       "(458643, 35)"
      ]
     },
     "execution_count": 22,
     "metadata": {},
     "output_type": "execute_result"
    }
   ],
   "source": [
    "all_animal_details_df.shape"
   ]
  },
  {
   "cell_type": "code",
   "execution_count": 23,
   "id": "d8532ea2",
   "metadata": {},
   "outputs": [],
   "source": [
    "# adding date of results to all_animal_details csv file_name\n",
    "all_animal_details_file_name = \"processed_data_files/all_animals_details_df_\"+str(datetime.today().date())+\".parquet\"\n",
    "\n",
    "# saving to disk\n",
    "all_animal_details_df.to_parquet(all_animal_details_file_name, index=False)"
   ]
  },
  {
   "cell_type": "code",
   "execution_count": 24,
   "id": "d1c0d8e9",
   "metadata": {},
   "outputs": [],
   "source": [
    "# sdf_ = pd.read_parquet('processed_data_files/all_animals_details_df_2022-09-21.parquet', engine='fastparquet')"
   ]
  },
  {
   "cell_type": "code",
   "execution_count": 25,
   "id": "4c55d2bf",
   "metadata": {},
   "outputs": [],
   "source": [
    "# sdf_.head()"
   ]
  },
  {
   "cell_type": "code",
   "execution_count": 26,
   "id": "67cbefd2",
   "metadata": {},
   "outputs": [],
   "source": [
    "# grouped based on \"cattle_id\", sorted by \"date_scraped\", taking the last occurence\n",
    "cattle_sold = pd.DataFrame(all_animal_details_df.sort_values(by='date_scraped').groupby('cattle_id').tail(1)).reset_index(drop=True)\n"
   ]
  },
  {
   "cell_type": "code",
   "execution_count": 27,
   "id": "ba7b08c1",
   "metadata": {},
   "outputs": [],
   "source": [
    "# function to get listing_status(Sold/Unsold/Fresh_listing) an the no. of days taken to sell item if sold\n",
    "def get_listing_status(x, last_scraped_dt):\n",
    "    # \"UnSold\" listing\n",
    "    if ((last_scraped_dt-pd.to_datetime(x['date_scraped'])).days)==0:\n",
    "        days_to_sell = -999\n",
    "        sold_status = 'UNSOLD'\n",
    "    # \"Fresh\" listing\n",
    "    elif ((last_scraped_dt-pd.to_datetime(x['publishedOn']).tz_localize(None).replace(hour=0, minute=0, second=0, microsecond=0)).days)==0:\n",
    "        days_to_sell = -999\n",
    "        sold_status = 'FRESH_LISTING'\n",
    "    # \"De-listed\" listing\n",
    "    elif int((pd.to_datetime(x['date_scraped'])-pd.to_datetime(x['publishedOn']).tz_localize(None).replace(hour=0, minute=0, second=0, microsecond=0)).days)+1==29:\n",
    "        days_to_sell = -999\n",
    "        sold_status = 'DELISTED_LISTING'\n",
    "    # \"Sold\" listing\n",
    "    else:\n",
    "        days_to_sell = int((pd.to_datetime(x['date_scraped'])-pd.to_datetime(x['publishedOn']).tz_localize(None).replace(hour=0, minute=0, second=0, microsecond=0)).days)+1\n",
    "        sold_status = 'Yes'\n",
    "     \n",
    "    # returning the no. of \"days_taken_to_sell\" and the final \"sold_status\"\n",
    "    return [days_to_sell, sold_status]"
   ]
  },
  {
   "cell_type": "code",
   "execution_count": 28,
   "id": "e0d03bbc",
   "metadata": {},
   "outputs": [],
   "source": [
    "# applying the \"get_listing_status\" function\n",
    "cattle_sold[['days_to_sell', 'sold_status']] = cattle_sold.apply(lambda y:get_listing_status(y, last_scraped_date),axis=1).tolist()"
   ]
  },
  {
   "cell_type": "code",
   "execution_count": 29,
   "id": "e00305c6",
   "metadata": {},
   "outputs": [
    {
     "data": {
      "text/plain": [
       "(94191, 37)"
      ]
     },
     "execution_count": 29,
     "metadata": {},
     "output_type": "execute_result"
    }
   ],
   "source": [
    "cattle_sold.shape"
   ]
  },
  {
   "cell_type": "code",
   "execution_count": 30,
   "id": "b862cd01",
   "metadata": {},
   "outputs": [],
   "source": [
    "# adding date of results to cattle_sold csv file_name\n",
    "cattle_sold_file_name = \"processed_data_files/cattle_sold_df_\"+str(datetime.today().date())+\".parquet\"\n",
    "\n",
    "# saving to disk\n",
    "cattle_sold.to_parquet(cattle_sold_file_name, index=False)"
   ]
  },
  {
   "cell_type": "markdown",
   "id": "4a244475",
   "metadata": {},
   "source": [
    "### all SELLER details files contact number mapping"
   ]
  },
  {
   "cell_type": "code",
   "execution_count": 31,
   "id": "6a2976ac",
   "metadata": {},
   "outputs": [],
   "source": [
    "# function to concatenate all \"Seller\" excel files\n",
    "def get_seller_details(files_df_):\n",
    "    # declaring empty list to concat all dataFrames\n",
    "    dflist = []\n",
    "    \n",
    "    # looping and concatenating\n",
    "    for i in range(len(files_df_)):#[-10] to take most recent 10 days scraped data\n",
    "        \n",
    "        # file_path of all excel files\n",
    "        file_path_ = files_df_['location'].iloc[i]\n",
    "        \n",
    "        # reading the file\n",
    "        df1 = pd.read_excel(file_path_)\n",
    "        df1['date_scraped'] = files_df_['date_scraped'].iloc[i]\n",
    "        df1['date_scraped'] = pd.to_datetime(df1['date_scraped'])\n",
    "        df1['listing_state'] = files_df_['state'].iloc[i]\n",
    "        df1['file_age'] = df1['date_scraped'].apply(lambda x: int((datetime.today() - x).days)+1)\n",
    "        dflist.append(df1)\n",
    "        \n",
    "    # concatenating and dropping index\n",
    "    concatenated_df = pd.concat(dflist).reset_index().drop('index',axis=1)\n",
    "    \n",
    "    # renaming columns\n",
    "    concatenated_df.rename(columns={'_id':'cattle_id','userId':'seller_id', 'seller':'seller_name', 'state':'listing_status'}, inplace=True)\n",
    "    \n",
    "    # returning the concatenated dataFrame\n",
    "    return concatenated_df"
   ]
  },
  {
   "cell_type": "code",
   "execution_count": 58,
   "id": "30c6b8f4",
   "metadata": {},
   "outputs": [],
   "source": [
    "# calling the dataFrames concatenating function\n",
    "all_seller_details_df = get_seller_details(seller_files)"
   ]
  },
  {
   "cell_type": "code",
   "execution_count": 66,
   "id": "b635efa0",
   "metadata": {},
   "outputs": [],
   "source": [
    "# tagging and filtering out 10 digit seller_id\n",
    "all_seller_details_df['contact_number_y/n'] = all_seller_details_df['id'].apply(lambda x: \"Yes\" \\\n",
    "                                                                                if(len(str(x))==10) else \"No\")"
   ]
  },
  {
   "cell_type": "code",
   "execution_count": 69,
   "id": "2739d7f7",
   "metadata": {},
   "outputs": [],
   "source": [
    "all_contacts = all_seller_details_df[all_seller_details_df['contact_number_y/n'] == 'Yes'].reset_index(drop=True)"
   ]
  },
  {
   "cell_type": "code",
   "execution_count": 71,
   "id": "c36b0abc",
   "metadata": {},
   "outputs": [
    {
     "data": {
      "text/plain": [
       "(107272, 14)"
      ]
     },
     "execution_count": 71,
     "metadata": {},
     "output_type": "execute_result"
    }
   ],
   "source": [
    "all_contacts.shape"
   ]
  },
  {
   "cell_type": "code",
   "execution_count": 70,
   "id": "3afed9af",
   "metadata": {},
   "outputs": [
    {
     "data": {
      "text/html": [
       "<div>\n",
       "<style scoped>\n",
       "    .dataframe tbody tr th:only-of-type {\n",
       "        vertical-align: middle;\n",
       "    }\n",
       "\n",
       "    .dataframe tbody tr th {\n",
       "        vertical-align: top;\n",
       "    }\n",
       "\n",
       "    .dataframe thead th {\n",
       "        text-align: right;\n",
       "    }\n",
       "</style>\n",
       "<table border=\"1\" class=\"dataframe\">\n",
       "  <thead>\n",
       "    <tr style=\"text-align: right;\">\n",
       "      <th></th>\n",
       "      <th>cattle_id</th>\n",
       "      <th>id</th>\n",
       "      <th>name</th>\n",
       "      <th>nameEn</th>\n",
       "      <th>profileImage</th>\n",
       "      <th>description</th>\n",
       "      <th>slug</th>\n",
       "      <th>createdAt</th>\n",
       "      <th>appVersion</th>\n",
       "      <th>isVerified</th>\n",
       "      <th>date_scraped</th>\n",
       "      <th>listing_state</th>\n",
       "      <th>file_age</th>\n",
       "      <th>contact_number_y/n</th>\n",
       "    </tr>\n",
       "  </thead>\n",
       "  <tbody>\n",
       "    <tr>\n",
       "      <th>0</th>\n",
       "      <td>62dcbddee147a6000a6eb346</td>\n",
       "      <td>8433297856</td>\n",
       "      <td>ParvindChaudhary</td>\n",
       "      <td>ParvindChaudhary</td>\n",
       "      <td>NaN</td>\n",
       "      <td>NaN</td>\n",
       "      <td>parvindchaudhary-neiiwxogf8</td>\n",
       "      <td>2020-08-14T04:57:14.000Z</td>\n",
       "      <td>1.9.9.5</td>\n",
       "      <td>False</td>\n",
       "      <td>2022-07-25</td>\n",
       "      <td>DELHI</td>\n",
       "      <td>59</td>\n",
       "      <td>Yes</td>\n",
       "    </tr>\n",
       "    <tr>\n",
       "      <th>1</th>\n",
       "      <td>62dba89a4845ed000aba4585</td>\n",
       "      <td>9760980193</td>\n",
       "      <td>Museer khan</td>\n",
       "      <td>Museer khan</td>\n",
       "      <td>NaN</td>\n",
       "      <td>NaN</td>\n",
       "      <td>museer-khan-bwhgh7l7av</td>\n",
       "      <td>2020-09-13T05:06:30.000Z</td>\n",
       "      <td>1.9.9.5</td>\n",
       "      <td>False</td>\n",
       "      <td>2022-07-25</td>\n",
       "      <td>DELHI</td>\n",
       "      <td>59</td>\n",
       "      <td>Yes</td>\n",
       "    </tr>\n",
       "    <tr>\n",
       "      <th>2</th>\n",
       "      <td>62dce5ffd94b17000af5c673</td>\n",
       "      <td>8910701752</td>\n",
       "      <td>mahesh kumar</td>\n",
       "      <td>mahesh kumar</td>\n",
       "      <td>https://static-assets.animall.in/profile-image...</td>\n",
       "      <td>NaN</td>\n",
       "      <td>mahesh-kumar-ftyxw0fsue</td>\n",
       "      <td>2020-08-13T02:16:23.000Z</td>\n",
       "      <td>1.9.9.5</td>\n",
       "      <td>False</td>\n",
       "      <td>2022-07-25</td>\n",
       "      <td>DELHI</td>\n",
       "      <td>59</td>\n",
       "      <td>Yes</td>\n",
       "    </tr>\n",
       "    <tr>\n",
       "      <th>3</th>\n",
       "      <td>62dd01a447263e000a6a254e</td>\n",
       "      <td>6398108982</td>\n",
       "      <td>Navbahr dhaka</td>\n",
       "      <td>Navbahr dhaka</td>\n",
       "      <td>https://static-assets.animall.in/profile-image...</td>\n",
       "      <td>शुगर मिल बागपत मेरठ रोड निकट मैन गेट</td>\n",
       "      <td>navbahr-dhaka-ltnj2ye47j</td>\n",
       "      <td>2020-10-03T16:12:17.000Z</td>\n",
       "      <td>1.9.9.5</td>\n",
       "      <td>False</td>\n",
       "      <td>2022-07-25</td>\n",
       "      <td>DELHI</td>\n",
       "      <td>59</td>\n",
       "      <td>Yes</td>\n",
       "    </tr>\n",
       "    <tr>\n",
       "      <th>4</th>\n",
       "      <td>62d91bad179568000a0cd296</td>\n",
       "      <td>7988165861</td>\n",
       "      <td>Tushar</td>\n",
       "      <td>Tushar</td>\n",
       "      <td>https://static-assets.animall.in/profile-image...</td>\n",
       "      <td>NaN</td>\n",
       "      <td>tushar-bm6hqpu3lo</td>\n",
       "      <td>2020-10-26T00:56:01.000Z</td>\n",
       "      <td>1.9.9.5</td>\n",
       "      <td>False</td>\n",
       "      <td>2022-07-25</td>\n",
       "      <td>DELHI</td>\n",
       "      <td>59</td>\n",
       "      <td>Yes</td>\n",
       "    </tr>\n",
       "  </tbody>\n",
       "</table>\n",
       "</div>"
      ],
      "text/plain": [
       "                  cattle_id          id              name            nameEn  \\\n",
       "0  62dcbddee147a6000a6eb346  8433297856  ParvindChaudhary  ParvindChaudhary   \n",
       "1  62dba89a4845ed000aba4585  9760980193       Museer khan       Museer khan   \n",
       "2  62dce5ffd94b17000af5c673  8910701752      mahesh kumar      mahesh kumar   \n",
       "3  62dd01a447263e000a6a254e  6398108982     Navbahr dhaka     Navbahr dhaka   \n",
       "4  62d91bad179568000a0cd296  7988165861            Tushar            Tushar   \n",
       "\n",
       "                                        profileImage  \\\n",
       "0                                                NaN   \n",
       "1                                                NaN   \n",
       "2  https://static-assets.animall.in/profile-image...   \n",
       "3  https://static-assets.animall.in/profile-image...   \n",
       "4  https://static-assets.animall.in/profile-image...   \n",
       "\n",
       "                            description                         slug  \\\n",
       "0                                   NaN  parvindchaudhary-neiiwxogf8   \n",
       "1                                   NaN       museer-khan-bwhgh7l7av   \n",
       "2                                   NaN      mahesh-kumar-ftyxw0fsue   \n",
       "3  शुगर मिल बागपत मेरठ रोड निकट मैन गेट     navbahr-dhaka-ltnj2ye47j   \n",
       "4                                   NaN            tushar-bm6hqpu3lo   \n",
       "\n",
       "                  createdAt appVersion  isVerified date_scraped listing_state  \\\n",
       "0  2020-08-14T04:57:14.000Z    1.9.9.5       False   2022-07-25         DELHI   \n",
       "1  2020-09-13T05:06:30.000Z    1.9.9.5       False   2022-07-25         DELHI   \n",
       "2  2020-08-13T02:16:23.000Z    1.9.9.5       False   2022-07-25         DELHI   \n",
       "3  2020-10-03T16:12:17.000Z    1.9.9.5       False   2022-07-25         DELHI   \n",
       "4  2020-10-26T00:56:01.000Z    1.9.9.5       False   2022-07-25         DELHI   \n",
       "\n",
       "   file_age contact_number_y/n  \n",
       "0        59                Yes  \n",
       "1        59                Yes  \n",
       "2        59                Yes  \n",
       "3        59                Yes  \n",
       "4        59                Yes  "
      ]
     },
     "execution_count": 70,
     "metadata": {},
     "output_type": "execute_result"
    }
   ],
   "source": [
    "all_contacts.head()"
   ]
  },
  {
   "cell_type": "code",
   "execution_count": null,
   "id": "8c7f84e2",
   "metadata": {},
   "outputs": [],
   "source": []
  },
  {
   "cell_type": "code",
   "execution_count": null,
   "id": "b048ff32",
   "metadata": {},
   "outputs": [],
   "source": []
  },
  {
   "cell_type": "code",
   "execution_count": 38,
   "id": "e9d06fd1",
   "metadata": {},
   "outputs": [],
   "source": [
    "# dropping redundant data rows, reatining only 10 digit values\n",
    "all_seller_details_df['id'] = all_seller_details_df['id'].astype(str)\n",
    "\n",
    "nums_ = [ row['id'] for _, row in all_seller_details_df.iterrows() if len(row['id']) == 10]\n",
    "all_seller_details_df = all_seller_details_df[all_seller_details_df['id'].isin(nums_)]\n",
    "all_seller_details_df.reset_index(drop=True, inplace=True)"
   ]
  },
  {
   "cell_type": "code",
   "execution_count": 57,
   "id": "12caa108",
   "metadata": {},
   "outputs": [
    {
     "data": {
      "text/plain": [
       "(94191, 107272)"
      ]
     },
     "execution_count": 57,
     "metadata": {},
     "output_type": "execute_result"
    }
   ],
   "source": [
    "len(cattle_sold), len(all_seller_details_df)"
   ]
  },
  {
   "cell_type": "code",
   "execution_count": 55,
   "id": "84243660",
   "metadata": {},
   "outputs": [
    {
     "data": {
      "text/html": [
       "<div>\n",
       "<style scoped>\n",
       "    .dataframe tbody tr th:only-of-type {\n",
       "        vertical-align: middle;\n",
       "    }\n",
       "\n",
       "    .dataframe tbody tr th {\n",
       "        vertical-align: top;\n",
       "    }\n",
       "\n",
       "    .dataframe thead th {\n",
       "        text-align: right;\n",
       "    }\n",
       "</style>\n",
       "<table border=\"1\" class=\"dataframe\">\n",
       "  <thead>\n",
       "    <tr style=\"text-align: right;\">\n",
       "      <th></th>\n",
       "      <th>cattle_id</th>\n",
       "      <th>seller_id</th>\n",
       "      <th>distance</th>\n",
       "      <th>rating</th>\n",
       "      <th>viewCount</th>\n",
       "      <th>callCount</th>\n",
       "      <th>recency</th>\n",
       "      <th>_score</th>\n",
       "      <th>long</th>\n",
       "      <th>lat</th>\n",
       "      <th>gender</th>\n",
       "      <th>listing_status</th>\n",
       "      <th>highestMilk</th>\n",
       "      <th>seller_name</th>\n",
       "      <th>locationName</th>\n",
       "      <th>isNegotiable</th>\n",
       "      <th>publishedOn</th>\n",
       "      <th>currentMilk</th>\n",
       "      <th>deliveredBefore</th>\n",
       "      <th>hasDelivered</th>\n",
       "      <th>isPregnant</th>\n",
       "      <th>pregnancyMonth</th>\n",
       "      <th>price</th>\n",
       "      <th>age</th>\n",
       "      <th>animalType</th>\n",
       "      <th>breed</th>\n",
       "      <th>calf</th>\n",
       "      <th>lactation</th>\n",
       "      <th>partnerId</th>\n",
       "      <th>hasContacted</th>\n",
       "      <th>type</th>\n",
       "      <th>coordinates</th>\n",
       "      <th>date_scraped</th>\n",
       "      <th>listing_state</th>\n",
       "      <th>file_age</th>\n",
       "      <th>days_to_sell</th>\n",
       "      <th>sold_status</th>\n",
       "    </tr>\n",
       "  </thead>\n",
       "  <tbody>\n",
       "  </tbody>\n",
       "</table>\n",
       "</div>"
      ],
      "text/plain": [
       "Empty DataFrame\n",
       "Columns: [cattle_id, seller_id, distance, rating, viewCount, callCount, recency, _score, long, lat, gender, listing_status, highestMilk, seller_name, locationName, isNegotiable, publishedOn, currentMilk, deliveredBefore, hasDelivered, isPregnant, pregnancyMonth, price, age, animalType, breed, calf, lactation, partnerId, hasContacted, type, coordinates, date_scraped, listing_state, file_age, days_to_sell, sold_status]\n",
       "Index: []"
      ]
     },
     "execution_count": 55,
     "metadata": {},
     "output_type": "execute_result"
    }
   ],
   "source": [
    "cattle_sold[cattle_sold['seller_id']=='9813968303']"
   ]
  },
  {
   "cell_type": "code",
   "execution_count": 50,
   "id": "e89361cb",
   "metadata": {},
   "outputs": [
    {
     "data": {
      "text/html": [
       "<div>\n",
       "<style scoped>\n",
       "    .dataframe tbody tr th:only-of-type {\n",
       "        vertical-align: middle;\n",
       "    }\n",
       "\n",
       "    .dataframe tbody tr th {\n",
       "        vertical-align: top;\n",
       "    }\n",
       "\n",
       "    .dataframe thead th {\n",
       "        text-align: right;\n",
       "    }\n",
       "</style>\n",
       "<table border=\"1\" class=\"dataframe\">\n",
       "  <thead>\n",
       "    <tr style=\"text-align: right;\">\n",
       "      <th></th>\n",
       "      <th>id</th>\n",
       "      <th>cattle_id</th>\n",
       "      <th>name</th>\n",
       "      <th>nameEn</th>\n",
       "      <th>profileImage</th>\n",
       "      <th>description</th>\n",
       "      <th>slug</th>\n",
       "      <th>createdAt</th>\n",
       "      <th>appVersion</th>\n",
       "      <th>isVerified</th>\n",
       "      <th>date_scraped</th>\n",
       "      <th>listing_state</th>\n",
       "      <th>file_age</th>\n",
       "    </tr>\n",
       "  </thead>\n",
       "  <tbody>\n",
       "    <tr>\n",
       "      <th>10219</th>\n",
       "      <td>9813968303</td>\n",
       "      <td>242</td>\n",
       "      <td>242</td>\n",
       "      <td>242</td>\n",
       "      <td>242</td>\n",
       "      <td>242</td>\n",
       "      <td>242</td>\n",
       "      <td>242</td>\n",
       "      <td>242</td>\n",
       "      <td>242</td>\n",
       "      <td>242</td>\n",
       "      <td>242</td>\n",
       "      <td>242</td>\n",
       "    </tr>\n",
       "    <tr>\n",
       "      <th>9348</th>\n",
       "      <td>9729304332</td>\n",
       "      <td>188</td>\n",
       "      <td>188</td>\n",
       "      <td>188</td>\n",
       "      <td>188</td>\n",
       "      <td>188</td>\n",
       "      <td>188</td>\n",
       "      <td>188</td>\n",
       "      <td>188</td>\n",
       "      <td>188</td>\n",
       "      <td>188</td>\n",
       "      <td>188</td>\n",
       "      <td>188</td>\n",
       "    </tr>\n",
       "    <tr>\n",
       "      <th>1062</th>\n",
       "      <td>7017158702</td>\n",
       "      <td>181</td>\n",
       "      <td>181</td>\n",
       "      <td>181</td>\n",
       "      <td>181</td>\n",
       "      <td>0</td>\n",
       "      <td>181</td>\n",
       "      <td>181</td>\n",
       "      <td>181</td>\n",
       "      <td>181</td>\n",
       "      <td>181</td>\n",
       "      <td>181</td>\n",
       "      <td>181</td>\n",
       "    </tr>\n",
       "    <tr>\n",
       "      <th>9352</th>\n",
       "      <td>9729355326</td>\n",
       "      <td>161</td>\n",
       "      <td>161</td>\n",
       "      <td>161</td>\n",
       "      <td>161</td>\n",
       "      <td>161</td>\n",
       "      <td>161</td>\n",
       "      <td>161</td>\n",
       "      <td>161</td>\n",
       "      <td>161</td>\n",
       "      <td>161</td>\n",
       "      <td>161</td>\n",
       "      <td>161</td>\n",
       "    </tr>\n",
       "    <tr>\n",
       "      <th>9637</th>\n",
       "      <td>9779189523</td>\n",
       "      <td>136</td>\n",
       "      <td>136</td>\n",
       "      <td>136</td>\n",
       "      <td>0</td>\n",
       "      <td>0</td>\n",
       "      <td>136</td>\n",
       "      <td>136</td>\n",
       "      <td>136</td>\n",
       "      <td>136</td>\n",
       "      <td>136</td>\n",
       "      <td>136</td>\n",
       "      <td>136</td>\n",
       "    </tr>\n",
       "    <tr>\n",
       "      <th>...</th>\n",
       "      <td>...</td>\n",
       "      <td>...</td>\n",
       "      <td>...</td>\n",
       "      <td>...</td>\n",
       "      <td>...</td>\n",
       "      <td>...</td>\n",
       "      <td>...</td>\n",
       "      <td>...</td>\n",
       "      <td>...</td>\n",
       "      <td>...</td>\n",
       "      <td>...</td>\n",
       "      <td>...</td>\n",
       "      <td>...</td>\n",
       "    </tr>\n",
       "    <tr>\n",
       "      <th>9036</th>\n",
       "      <td>9694016778</td>\n",
       "      <td>1</td>\n",
       "      <td>1</td>\n",
       "      <td>1</td>\n",
       "      <td>1</td>\n",
       "      <td>0</td>\n",
       "      <td>1</td>\n",
       "      <td>1</td>\n",
       "      <td>1</td>\n",
       "      <td>1</td>\n",
       "      <td>1</td>\n",
       "      <td>1</td>\n",
       "      <td>1</td>\n",
       "    </tr>\n",
       "    <tr>\n",
       "      <th>9033</th>\n",
       "      <td>9694000505</td>\n",
       "      <td>1</td>\n",
       "      <td>1</td>\n",
       "      <td>1</td>\n",
       "      <td>0</td>\n",
       "      <td>0</td>\n",
       "      <td>1</td>\n",
       "      <td>1</td>\n",
       "      <td>1</td>\n",
       "      <td>1</td>\n",
       "      <td>1</td>\n",
       "      <td>1</td>\n",
       "      <td>1</td>\n",
       "    </tr>\n",
       "    <tr>\n",
       "      <th>9032</th>\n",
       "      <td>9693394910</td>\n",
       "      <td>1</td>\n",
       "      <td>1</td>\n",
       "      <td>1</td>\n",
       "      <td>0</td>\n",
       "      <td>0</td>\n",
       "      <td>1</td>\n",
       "      <td>1</td>\n",
       "      <td>1</td>\n",
       "      <td>1</td>\n",
       "      <td>1</td>\n",
       "      <td>1</td>\n",
       "      <td>1</td>\n",
       "    </tr>\n",
       "    <tr>\n",
       "      <th>9022</th>\n",
       "      <td>9691006469</td>\n",
       "      <td>1</td>\n",
       "      <td>1</td>\n",
       "      <td>1</td>\n",
       "      <td>0</td>\n",
       "      <td>0</td>\n",
       "      <td>1</td>\n",
       "      <td>1</td>\n",
       "      <td>1</td>\n",
       "      <td>1</td>\n",
       "      <td>1</td>\n",
       "      <td>1</td>\n",
       "      <td>1</td>\n",
       "    </tr>\n",
       "    <tr>\n",
       "      <th>2746</th>\n",
       "      <td>7983018309</td>\n",
       "      <td>1</td>\n",
       "      <td>1</td>\n",
       "      <td>1</td>\n",
       "      <td>0</td>\n",
       "      <td>0</td>\n",
       "      <td>1</td>\n",
       "      <td>1</td>\n",
       "      <td>1</td>\n",
       "      <td>1</td>\n",
       "      <td>1</td>\n",
       "      <td>1</td>\n",
       "      <td>1</td>\n",
       "    </tr>\n",
       "  </tbody>\n",
       "</table>\n",
       "<p>11750 rows × 13 columns</p>\n",
       "</div>"
      ],
      "text/plain": [
       "               id  cattle_id  name  nameEn  profileImage  description  slug  \\\n",
       "10219  9813968303        242   242     242           242          242   242   \n",
       "9348   9729304332        188   188     188           188          188   188   \n",
       "1062   7017158702        181   181     181           181            0   181   \n",
       "9352   9729355326        161   161     161           161          161   161   \n",
       "9637   9779189523        136   136     136             0            0   136   \n",
       "...           ...        ...   ...     ...           ...          ...   ...   \n",
       "9036   9694016778          1     1       1             1            0     1   \n",
       "9033   9694000505          1     1       1             0            0     1   \n",
       "9032   9693394910          1     1       1             0            0     1   \n",
       "9022   9691006469          1     1       1             0            0     1   \n",
       "2746   7983018309          1     1       1             0            0     1   \n",
       "\n",
       "       createdAt  appVersion  isVerified  date_scraped  listing_state  \\\n",
       "10219        242         242         242           242            242   \n",
       "9348         188         188         188           188            188   \n",
       "1062         181         181         181           181            181   \n",
       "9352         161         161         161           161            161   \n",
       "9637         136         136         136           136            136   \n",
       "...          ...         ...         ...           ...            ...   \n",
       "9036           1           1           1             1              1   \n",
       "9033           1           1           1             1              1   \n",
       "9032           1           1           1             1              1   \n",
       "9022           1           1           1             1              1   \n",
       "2746           1           1           1             1              1   \n",
       "\n",
       "       file_age  \n",
       "10219       242  \n",
       "9348        188  \n",
       "1062        181  \n",
       "9352        161  \n",
       "9637        136  \n",
       "...         ...  \n",
       "9036          1  \n",
       "9033          1  \n",
       "9032          1  \n",
       "9022          1  \n",
       "2746          1  \n",
       "\n",
       "[11750 rows x 13 columns]"
      ]
     },
     "execution_count": 50,
     "metadata": {},
     "output_type": "execute_result"
    }
   ],
   "source": [
    "all_seller_details_df.groupby(['id']).count().reset_index().sort_values(by=['cattle_id'], ascending=False)"
   ]
  },
  {
   "cell_type": "code",
   "execution_count": 51,
   "id": "ed0e2726",
   "metadata": {},
   "outputs": [
    {
     "data": {
      "text/html": [
       "<div>\n",
       "<style scoped>\n",
       "    .dataframe tbody tr th:only-of-type {\n",
       "        vertical-align: middle;\n",
       "    }\n",
       "\n",
       "    .dataframe tbody tr th {\n",
       "        vertical-align: top;\n",
       "    }\n",
       "\n",
       "    .dataframe thead th {\n",
       "        text-align: right;\n",
       "    }\n",
       "</style>\n",
       "<table border=\"1\" class=\"dataframe\">\n",
       "  <thead>\n",
       "    <tr style=\"text-align: right;\">\n",
       "      <th></th>\n",
       "      <th>cattle_id</th>\n",
       "      <th>id</th>\n",
       "      <th>name</th>\n",
       "      <th>nameEn</th>\n",
       "      <th>profileImage</th>\n",
       "      <th>description</th>\n",
       "      <th>slug</th>\n",
       "      <th>createdAt</th>\n",
       "      <th>appVersion</th>\n",
       "      <th>isVerified</th>\n",
       "      <th>date_scraped</th>\n",
       "      <th>listing_state</th>\n",
       "      <th>file_age</th>\n",
       "    </tr>\n",
       "  </thead>\n",
       "  <tbody>\n",
       "    <tr>\n",
       "      <th>192</th>\n",
       "      <td>62dded30458b97000b4b7fb9</td>\n",
       "      <td>9813968303</td>\n",
       "      <td>Vijay Saini</td>\n",
       "      <td>Vijay Saini</td>\n",
       "      <td>https://static-assets.animall.in/profile-image...</td>\n",
       "      <td>Jai shree shyam</td>\n",
       "      <td>vijay-saini-j32nzl1o2o</td>\n",
       "      <td>2020-09-14T14:44:22.000Z</td>\n",
       "      <td>2.1.6</td>\n",
       "      <td>False</td>\n",
       "      <td>2022-07-25</td>\n",
       "      <td>HARYANA</td>\n",
       "      <td>59</td>\n",
       "    </tr>\n",
       "    <tr>\n",
       "      <th>515</th>\n",
       "      <td>62ddedbc8f3750000ad526f7</td>\n",
       "      <td>9813968303</td>\n",
       "      <td>Vijay Saini</td>\n",
       "      <td>Vijay Saini</td>\n",
       "      <td>https://static-assets.animall.in/profile-image...</td>\n",
       "      <td>Jai shree shyam</td>\n",
       "      <td>vijay-saini-j32nzl1o2o</td>\n",
       "      <td>2020-09-14T14:44:22.000Z</td>\n",
       "      <td>2.1.6</td>\n",
       "      <td>False</td>\n",
       "      <td>2022-07-25</td>\n",
       "      <td>HARYANA</td>\n",
       "      <td>59</td>\n",
       "    </tr>\n",
       "    <tr>\n",
       "      <th>548</th>\n",
       "      <td>62db94bc7deed3000ab2c7ab</td>\n",
       "      <td>9813968303</td>\n",
       "      <td>Vijay Saini</td>\n",
       "      <td>Vijay Saini</td>\n",
       "      <td>https://static-assets.animall.in/profile-image...</td>\n",
       "      <td>Jai shree shyam</td>\n",
       "      <td>vijay-saini-j32nzl1o2o</td>\n",
       "      <td>2020-09-14T14:44:22.000Z</td>\n",
       "      <td>2.1.6</td>\n",
       "      <td>False</td>\n",
       "      <td>2022-07-25</td>\n",
       "      <td>HARYANA</td>\n",
       "      <td>59</td>\n",
       "    </tr>\n",
       "    <tr>\n",
       "      <th>1097</th>\n",
       "      <td>62e3cfdbed0f3f000b5caa2b</td>\n",
       "      <td>9813968303</td>\n",
       "      <td>Vijay Saini</td>\n",
       "      <td>Vijay Saini</td>\n",
       "      <td>https://static-assets.animall.in/profile-image...</td>\n",
       "      <td>Jai shree shyam</td>\n",
       "      <td>vijay-saini-j32nzl1o2o</td>\n",
       "      <td>2020-09-14T14:44:22.000Z</td>\n",
       "      <td>1.9.9.6</td>\n",
       "      <td>False</td>\n",
       "      <td>2022-08-02</td>\n",
       "      <td>HARYANA</td>\n",
       "      <td>51</td>\n",
       "    </tr>\n",
       "    <tr>\n",
       "      <th>2832</th>\n",
       "      <td>62eb60c80896b4000a8f0e0f</td>\n",
       "      <td>9813968303</td>\n",
       "      <td>Vijay Saini</td>\n",
       "      <td>Vijay Saini</td>\n",
       "      <td>https://static-assets.animall.in/profile-image...</td>\n",
       "      <td>Jai shree shyam</td>\n",
       "      <td>vijay-saini-j32nzl1o2o</td>\n",
       "      <td>2020-09-14T14:44:22.000Z</td>\n",
       "      <td>1.9.9.6</td>\n",
       "      <td>False</td>\n",
       "      <td>2022-08-05</td>\n",
       "      <td>RAJASTHAN</td>\n",
       "      <td>48</td>\n",
       "    </tr>\n",
       "    <tr>\n",
       "      <th>...</th>\n",
       "      <td>...</td>\n",
       "      <td>...</td>\n",
       "      <td>...</td>\n",
       "      <td>...</td>\n",
       "      <td>...</td>\n",
       "      <td>...</td>\n",
       "      <td>...</td>\n",
       "      <td>...</td>\n",
       "      <td>...</td>\n",
       "      <td>...</td>\n",
       "      <td>...</td>\n",
       "      <td>...</td>\n",
       "      <td>...</td>\n",
       "    </tr>\n",
       "    <tr>\n",
       "      <th>106582</th>\n",
       "      <td>63271e814a576f000a237dcf</td>\n",
       "      <td>9813968303</td>\n",
       "      <td>Vijay Saini</td>\n",
       "      <td>Vijay Saini</td>\n",
       "      <td>https://static-assets.animall.in/profile-image...</td>\n",
       "      <td>Jai shree shyam</td>\n",
       "      <td>vijay-saini-j32nzl1o2o</td>\n",
       "      <td>2020-09-14T14:44:22.000Z</td>\n",
       "      <td>1.9.9.7</td>\n",
       "      <td>False</td>\n",
       "      <td>2022-09-21</td>\n",
       "      <td>RAJASTHAN</td>\n",
       "      <td>1</td>\n",
       "    </tr>\n",
       "    <tr>\n",
       "      <th>106583</th>\n",
       "      <td>632ad2acc34458000b1e4c84</td>\n",
       "      <td>9813968303</td>\n",
       "      <td>Vijay Saini</td>\n",
       "      <td>Vijay Saini</td>\n",
       "      <td>https://static-assets.animall.in/profile-image...</td>\n",
       "      <td>Jai shree shyam</td>\n",
       "      <td>vijay-saini-j32nzl1o2o</td>\n",
       "      <td>2020-09-14T14:44:22.000Z</td>\n",
       "      <td>1.9.9.7</td>\n",
       "      <td>False</td>\n",
       "      <td>2022-09-21</td>\n",
       "      <td>RAJASTHAN</td>\n",
       "      <td>1</td>\n",
       "    </tr>\n",
       "    <tr>\n",
       "      <th>106913</th>\n",
       "      <td>6329679b51d518000ac2bf76</td>\n",
       "      <td>9813968303</td>\n",
       "      <td>Vijay Saini</td>\n",
       "      <td>Vijay Saini</td>\n",
       "      <td>https://static-assets.animall.in/profile-image...</td>\n",
       "      <td>Jai shree shyam</td>\n",
       "      <td>vijay-saini-j32nzl1o2o</td>\n",
       "      <td>2020-09-14T14:44:22.000Z</td>\n",
       "      <td>1.9.9.7</td>\n",
       "      <td>False</td>\n",
       "      <td>2022-09-21</td>\n",
       "      <td>HARYANA</td>\n",
       "      <td>1</td>\n",
       "    </tr>\n",
       "    <tr>\n",
       "      <th>106915</th>\n",
       "      <td>63271e814a576f000a237dcf</td>\n",
       "      <td>9813968303</td>\n",
       "      <td>Vijay Saini</td>\n",
       "      <td>Vijay Saini</td>\n",
       "      <td>https://static-assets.animall.in/profile-image...</td>\n",
       "      <td>Jai shree shyam</td>\n",
       "      <td>vijay-saini-j32nzl1o2o</td>\n",
       "      <td>2020-09-14T14:44:22.000Z</td>\n",
       "      <td>1.9.9.7</td>\n",
       "      <td>False</td>\n",
       "      <td>2022-09-21</td>\n",
       "      <td>HARYANA</td>\n",
       "      <td>1</td>\n",
       "    </tr>\n",
       "    <tr>\n",
       "      <th>107199</th>\n",
       "      <td>63271f19ff89fc000a5f3a32</td>\n",
       "      <td>9813968303</td>\n",
       "      <td>Vijay Saini</td>\n",
       "      <td>Vijay Saini</td>\n",
       "      <td>https://static-assets.animall.in/profile-image...</td>\n",
       "      <td>Jai shree shyam</td>\n",
       "      <td>vijay-saini-j32nzl1o2o</td>\n",
       "      <td>2020-09-14T14:44:22.000Z</td>\n",
       "      <td>1.9.9.7</td>\n",
       "      <td>False</td>\n",
       "      <td>2022-09-21</td>\n",
       "      <td>HARYANA</td>\n",
       "      <td>1</td>\n",
       "    </tr>\n",
       "  </tbody>\n",
       "</table>\n",
       "<p>242 rows × 13 columns</p>\n",
       "</div>"
      ],
      "text/plain": [
       "                       cattle_id          id         name       nameEn  \\\n",
       "192     62dded30458b97000b4b7fb9  9813968303  Vijay Saini  Vijay Saini   \n",
       "515     62ddedbc8f3750000ad526f7  9813968303  Vijay Saini  Vijay Saini   \n",
       "548     62db94bc7deed3000ab2c7ab  9813968303  Vijay Saini  Vijay Saini   \n",
       "1097    62e3cfdbed0f3f000b5caa2b  9813968303  Vijay Saini  Vijay Saini   \n",
       "2832    62eb60c80896b4000a8f0e0f  9813968303  Vijay Saini  Vijay Saini   \n",
       "...                          ...         ...          ...          ...   \n",
       "106582  63271e814a576f000a237dcf  9813968303  Vijay Saini  Vijay Saini   \n",
       "106583  632ad2acc34458000b1e4c84  9813968303  Vijay Saini  Vijay Saini   \n",
       "106913  6329679b51d518000ac2bf76  9813968303  Vijay Saini  Vijay Saini   \n",
       "106915  63271e814a576f000a237dcf  9813968303  Vijay Saini  Vijay Saini   \n",
       "107199  63271f19ff89fc000a5f3a32  9813968303  Vijay Saini  Vijay Saini   \n",
       "\n",
       "                                             profileImage      description  \\\n",
       "192     https://static-assets.animall.in/profile-image...  Jai shree shyam   \n",
       "515     https://static-assets.animall.in/profile-image...  Jai shree shyam   \n",
       "548     https://static-assets.animall.in/profile-image...  Jai shree shyam   \n",
       "1097    https://static-assets.animall.in/profile-image...  Jai shree shyam   \n",
       "2832    https://static-assets.animall.in/profile-image...  Jai shree shyam   \n",
       "...                                                   ...              ...   \n",
       "106582  https://static-assets.animall.in/profile-image...  Jai shree shyam   \n",
       "106583  https://static-assets.animall.in/profile-image...  Jai shree shyam   \n",
       "106913  https://static-assets.animall.in/profile-image...  Jai shree shyam   \n",
       "106915  https://static-assets.animall.in/profile-image...  Jai shree shyam   \n",
       "107199  https://static-assets.animall.in/profile-image...  Jai shree shyam   \n",
       "\n",
       "                          slug                 createdAt appVersion  \\\n",
       "192     vijay-saini-j32nzl1o2o  2020-09-14T14:44:22.000Z      2.1.6   \n",
       "515     vijay-saini-j32nzl1o2o  2020-09-14T14:44:22.000Z      2.1.6   \n",
       "548     vijay-saini-j32nzl1o2o  2020-09-14T14:44:22.000Z      2.1.6   \n",
       "1097    vijay-saini-j32nzl1o2o  2020-09-14T14:44:22.000Z    1.9.9.6   \n",
       "2832    vijay-saini-j32nzl1o2o  2020-09-14T14:44:22.000Z    1.9.9.6   \n",
       "...                        ...                       ...        ...   \n",
       "106582  vijay-saini-j32nzl1o2o  2020-09-14T14:44:22.000Z    1.9.9.7   \n",
       "106583  vijay-saini-j32nzl1o2o  2020-09-14T14:44:22.000Z    1.9.9.7   \n",
       "106913  vijay-saini-j32nzl1o2o  2020-09-14T14:44:22.000Z    1.9.9.7   \n",
       "106915  vijay-saini-j32nzl1o2o  2020-09-14T14:44:22.000Z    1.9.9.7   \n",
       "107199  vijay-saini-j32nzl1o2o  2020-09-14T14:44:22.000Z    1.9.9.7   \n",
       "\n",
       "        isVerified date_scraped listing_state  file_age  \n",
       "192          False   2022-07-25       HARYANA        59  \n",
       "515          False   2022-07-25       HARYANA        59  \n",
       "548          False   2022-07-25       HARYANA        59  \n",
       "1097         False   2022-08-02       HARYANA        51  \n",
       "2832         False   2022-08-05     RAJASTHAN        48  \n",
       "...            ...          ...           ...       ...  \n",
       "106582       False   2022-09-21     RAJASTHAN         1  \n",
       "106583       False   2022-09-21     RAJASTHAN         1  \n",
       "106913       False   2022-09-21       HARYANA         1  \n",
       "106915       False   2022-09-21       HARYANA         1  \n",
       "107199       False   2022-09-21       HARYANA         1  \n",
       "\n",
       "[242 rows x 13 columns]"
      ]
     },
     "execution_count": 51,
     "metadata": {},
     "output_type": "execute_result"
    }
   ],
   "source": [
    "all_seller_details_df[all_seller_details_df['id']=='9813968303']"
   ]
  },
  {
   "cell_type": "code",
   "execution_count": null,
   "id": "ffadab5c",
   "metadata": {},
   "outputs": [],
   "source": [
    "all_seller_details_df.drop_duplicates(subset=['id'],inplace=True)"
   ]
  },
  {
   "cell_type": "code",
   "execution_count": null,
   "id": "a5c6aa2a",
   "metadata": {},
   "outputs": [],
   "source": [
    "all_seller_details_df = all_seller_details_df[['id','name']]"
   ]
  },
  {
   "cell_type": "code",
   "execution_count": null,
   "id": "a0ef986e",
   "metadata": {},
   "outputs": [],
   "source": [
    "all_seller_details_df.rename(columns={'id':'contact_number'}, inplace=True)"
   ]
  },
  {
   "cell_type": "code",
   "execution_count": null,
   "id": "96aae32d",
   "metadata": {},
   "outputs": [],
   "source": [
    "all_seller_details_df = all_seller_details_df.drop_duplicates(subset=['name']).reset_index(drop=True)"
   ]
  },
  {
   "cell_type": "code",
   "execution_count": null,
   "id": "c04d0a2c",
   "metadata": {
    "scrolled": true
   },
   "outputs": [],
   "source": [
    "all_seller_details_df.shape"
   ]
  },
  {
   "cell_type": "code",
   "execution_count": null,
   "id": "6f692b23",
   "metadata": {},
   "outputs": [],
   "source": [
    "all_seller_details_df['contact_number'] = all_seller_details_df['contact_number'].astype(int)"
   ]
  },
  {
   "cell_type": "code",
   "execution_count": null,
   "id": "f4d2aae0",
   "metadata": {},
   "outputs": [],
   "source": [
    "# adding date of results to all_animal_details csv file_name\n",
    "all_seller_details_file_name = \"processed_data_files/all_seller_details_df_\"+str(datetime.today().date())+\".parquet\"\n",
    "\n",
    "# saving to disk\n",
    "all_seller_details_df.to_parquet(all_seller_details_file_name, index=False)"
   ]
  },
  {
   "cell_type": "code",
   "execution_count": null,
   "id": "9188f97e",
   "metadata": {},
   "outputs": [],
   "source": [
    "# # adding date of results to all_animal_details csv file_name\n",
    "# all_seller_details_file_name = \"processed_data_files/all_seller_details_df_\"+str(datetime.today().date())+\".csv\"\n",
    "\n",
    "# # saving to disk\n",
    "# all_seller_details_df.to_csv(all_seller_details_file_name, index=False)"
   ]
  },
  {
   "cell_type": "markdown",
   "id": "9cdb7010",
   "metadata": {},
   "source": [
    "### all cattles pincode mapping - gmap_lat_long"
   ]
  },
  {
   "cell_type": "code",
   "execution_count": null,
   "id": "7ef2f227",
   "metadata": {},
   "outputs": [],
   "source": [
    "# reading the current gmap_lat_long_mapping csv\n",
    "gmap_lat_long_mapping_df = pd.read_csv(\"processed_data_files/gmap_lat_long_mapping_df_2022-09-21.csv\")"
   ]
  },
  {
   "cell_type": "code",
   "execution_count": null,
   "id": "362692b4",
   "metadata": {},
   "outputs": [],
   "source": [
    "gmap_lat_long_mapping_df.shape"
   ]
  },
  {
   "cell_type": "code",
   "execution_count": null,
   "id": "f7b607bd",
   "metadata": {},
   "outputs": [],
   "source": [
    "cattle_sold.shape"
   ]
  },
  {
   "cell_type": "code",
   "execution_count": null,
   "id": "3a94b31f",
   "metadata": {},
   "outputs": [],
   "source": [
    "# filtering out 'cattle_ids' that need to be mapped\n",
    "tbd_df = cattle_sold[~cattle_sold['cattle_id'].isin(gmap_lat_long_mapping_df['cattle_id'].tolist())].reset_index(drop=True)"
   ]
  },
  {
   "cell_type": "code",
   "execution_count": null,
   "id": "a51e688f",
   "metadata": {},
   "outputs": [],
   "source": [
    "tbd_df.shape"
   ]
  },
  {
   "cell_type": "code",
   "execution_count": null,
   "id": "7d2f60e0",
   "metadata": {},
   "outputs": [],
   "source": [
    "# reading the GMAP lat_long data\n",
    "lat_long_df = pd.read_csv(\"GMAP_full.csv\")"
   ]
  },
  {
   "cell_type": "code",
   "execution_count": null,
   "id": "440233da",
   "metadata": {},
   "outputs": [],
   "source": [
    "for i, row in tqdm(tbd_df.iterrows()):\n",
    "    lat = float(row['lat'])\n",
    "    long = float(row['long'])\n",
    "    source = (lat,long)\n",
    "    distance_matrixs = {}\n",
    "    for j, row_ in lat_long_df.iterrows():\n",
    "        glat = float(row_['Lat_GMAP'])\n",
    "        glong = float(row_['Long_GMAP'])\n",
    "        destination = (glat,glong)\n",
    "        distance = hs.haversine(source,destination)\n",
    "        distance_matrixs[j] = distance\n",
    "\n",
    "    distance_matrixs = sorted(distance_matrixs.items(), key=lambda x:x[1])\n",
    "    distance_mats = dict(distance_matrixs)\n",
    "    max_idx = list(distance_mats.keys())[0]\n",
    "\n",
    "    tbd_df.loc[i,'idx'] = max_idx\n",
    "    tbd_df.loc[i,'GLong'] = lat_long_df.iloc[max_idx]['Long_GMAP']\n",
    "    tbd_df.loc[i,'GLat'] = lat_long_df.iloc[max_idx]['Lat_GMAP']\n",
    "    tbd_df.loc[i,'Pincode'] = lat_long_df.iloc[max_idx]['Pincode']\n",
    "    tbd_df.loc[i,'Distance'] = distance_mats[max_idx]*1.2"
   ]
  },
  {
   "cell_type": "code",
   "execution_count": null,
   "id": "784077db",
   "metadata": {},
   "outputs": [],
   "source": [
    "# columns to be retained from tbd_df\n",
    "col_names = gmap_lat_long_mapping_df.columns.tolist()"
   ]
  },
  {
   "cell_type": "code",
   "execution_count": null,
   "id": "e0ee3ba9",
   "metadata": {},
   "outputs": [],
   "source": [
    "# concatenated \"gmap_mapping_result\" dataframe\n",
    "gmap_mapping_result = pd.concat([gmap_lat_long_mapping_df,tbd_df[col_names]],axis=0).reset_index(drop=True)"
   ]
  },
  {
   "cell_type": "code",
   "execution_count": null,
   "id": "13151ca1",
   "metadata": {},
   "outputs": [],
   "source": [
    "# # adding date of results to all_animal_details csv file_name\n",
    "# gmap_lat_long_file_name = \"processed_data_files/gmap_lat_long_mapping_df_\"+str(datetime.today().date())+\".csv\"\n",
    "\n",
    "# # saving to disk\n",
    "# gmap_lat_long_mapping_df.to_csv(gmap_lat_long_file_name, index=False)"
   ]
  },
  {
   "cell_type": "markdown",
   "id": "5f30bb66",
   "metadata": {},
   "source": [
    "### indian postal code pincode.csv"
   ]
  },
  {
   "cell_type": "code",
   "execution_count": null,
   "id": "7600ff2a",
   "metadata": {},
   "outputs": [],
   "source": [
    "# reading csv\n",
    "pincode_df = pd.read_csv(\"pincode.csv\", low_memory=False)"
   ]
  },
  {
   "cell_type": "code",
   "execution_count": null,
   "id": "6155b44d",
   "metadata": {},
   "outputs": [],
   "source": [
    "pincode_df.shape"
   ]
  },
  {
   "cell_type": "markdown",
   "id": "e6e1940a",
   "metadata": {},
   "source": [
    "### adding features for reports/analysis"
   ]
  },
  {
   "cell_type": "markdown",
   "id": "b9b55343",
   "metadata": {},
   "source": [
    "#### contacts mapping"
   ]
  },
  {
   "cell_type": "code",
   "execution_count": null,
   "id": "4c80ae9b",
   "metadata": {},
   "outputs": [],
   "source": [
    "contacts_df = all_seller_details_df"
   ]
  },
  {
   "cell_type": "code",
   "execution_count": null,
   "id": "e45f6768",
   "metadata": {},
   "outputs": [],
   "source": [
    "cattle_sold = cattle_sold.merge(contacts_df, left_on='seller_name', right_on='name', how='left').fillna(-999)"
   ]
  },
  {
   "cell_type": "code",
   "execution_count": null,
   "id": "a23edc67",
   "metadata": {},
   "outputs": [],
   "source": [
    "cattle_sold.drop(columns=['name'], inplace=True)"
   ]
  },
  {
   "cell_type": "markdown",
   "id": "2cf0f799",
   "metadata": {},
   "source": [
    "#### gmap lat long mapping"
   ]
  },
  {
   "cell_type": "code",
   "execution_count": null,
   "id": "6e07d550",
   "metadata": {},
   "outputs": [],
   "source": [
    "gmap_lat_long_df = gmap_lat_long_mapping_df[['cattle_id','GLong','GLat','Pincode']]"
   ]
  },
  {
   "cell_type": "code",
   "execution_count": null,
   "id": "54d5ed1e",
   "metadata": {},
   "outputs": [],
   "source": [
    "gmap_lat_long_df = gmap_lat_long_df.rename(columns={'Pincode':'gmap_pincode',\\\n",
    "                                 'GLong':'gmap_long',\\\n",
    "                                 'GLat':'gmap_lat',\\\n",
    "                                })"
   ]
  },
  {
   "cell_type": "code",
   "execution_count": null,
   "id": "a639ba77",
   "metadata": {},
   "outputs": [],
   "source": [
    "cattle_sold = cattle_sold.merge(gmap_lat_long_df, left_on='cattle_id', right_on='cattle_id', how='left').fillna(-999)"
   ]
  },
  {
   "cell_type": "code",
   "execution_count": null,
   "id": "c64c056c",
   "metadata": {},
   "outputs": [],
   "source": [
    "cattle_sold['gmap_pincode'] = cattle_sold['gmap_pincode'].astype(int)"
   ]
  },
  {
   "cell_type": "code",
   "execution_count": null,
   "id": "8616e8f2",
   "metadata": {},
   "outputs": [],
   "source": [
    "cattle_sold.shape"
   ]
  },
  {
   "cell_type": "markdown",
   "id": "c7750b88",
   "metadata": {},
   "source": [
    "#### pincode state and district mapping"
   ]
  },
  {
   "cell_type": "code",
   "execution_count": null,
   "id": "7d104f77",
   "metadata": {},
   "outputs": [],
   "source": [
    "pincodes_df = pincode_df[['Pincode','District','StateName']]"
   ]
  },
  {
   "cell_type": "code",
   "execution_count": null,
   "id": "1e3d9467",
   "metadata": {},
   "outputs": [],
   "source": [
    "pincodes_df = pincodes_df.rename(columns={'Pincode':'gmap_pincode',\\\n",
    "                            'District':'gmap_district',\\\n",
    "                            'StateName':'gmap_state',\\\n",
    "                           })"
   ]
  },
  {
   "cell_type": "code",
   "execution_count": null,
   "id": "4ab5cd5d",
   "metadata": {},
   "outputs": [],
   "source": [
    "pincodes_df = pincodes_df.drop_duplicates(subset=['gmap_pincode']).reset_index(drop=True)"
   ]
  },
  {
   "cell_type": "code",
   "execution_count": null,
   "id": "38cb18dc",
   "metadata": {},
   "outputs": [],
   "source": [
    "pincodes_df.shape"
   ]
  },
  {
   "cell_type": "code",
   "execution_count": null,
   "id": "fdbe297d",
   "metadata": {},
   "outputs": [],
   "source": [
    "cattle_sold = cattle_sold.merge(pincodes_df, left_on='gmap_pincode', right_on='gmap_pincode', how='left').fillna('-')"
   ]
  },
  {
   "cell_type": "code",
   "execution_count": null,
   "id": "d226f3da",
   "metadata": {},
   "outputs": [],
   "source": [
    "cattle_sold = cattle_sold.reset_index(drop=True)"
   ]
  },
  {
   "cell_type": "code",
   "execution_count": null,
   "id": "5b86f3a3",
   "metadata": {},
   "outputs": [],
   "source": [
    "cattle_sold.shape"
   ]
  },
  {
   "cell_type": "markdown",
   "id": "6be679d6",
   "metadata": {},
   "source": [
    "#### adding week names and date features"
   ]
  },
  {
   "cell_type": "code",
   "execution_count": null,
   "id": "720e7bdc",
   "metadata": {},
   "outputs": [],
   "source": [
    "cattle_sold['month_of_sale'] = cattle_sold['date_scraped'].dt.month_name()\n",
    "cattle_sold['week_of_sale'] = (cattle_sold['date_scraped']+pd.DateOffset(1)).dt.isocalendar().week\n",
    "cattle_sold['year_of_sale'] = cattle_sold['date_scraped'].dt.year\n",
    "cattle_sold['weekday'] = cattle_sold['date_scraped'].dt.strftime('%A')\n",
    "cattle_sold['week_start_date'] = cattle_sold['date_scraped'].apply(lambda x: (x - timedelta(days=x.weekday()) - pd.DateOffset(1)).strftime('%d %b'))\n",
    "cattle_sold['week_end_date'] = cattle_sold['date_scraped'].apply(lambda x: (x - timedelta(days=x.weekday()) - pd.DateOffset(1) + timedelta(days=6)).strftime('%d %b'))\n",
    "cattle_sold['sale_week'] = cattle_sold.apply(lambda x: str(x['week_start_date']) + \" - \" + str(x['week_end_date']), axis=1)\n",
    "cattle_sold['sale_day'] = cattle_sold['date_scraped'].apply(lambda x: str(x.strftime('%d %b')) + \": \" + str(x.strftime('%a')))\n"
   ]
  },
  {
   "cell_type": "markdown",
   "id": "2e259bf5",
   "metadata": {},
   "source": [
    "#### renaming and standardizing the column names"
   ]
  },
  {
   "cell_type": "code",
   "execution_count": null,
   "id": "e85b2458",
   "metadata": {},
   "outputs": [],
   "source": [
    "# making a copy of the dataframe\n",
    "data = cattle_sold.copy()"
   ]
  },
  {
   "cell_type": "code",
   "execution_count": null,
   "id": "79c08560",
   "metadata": {},
   "outputs": [],
   "source": [
    "# standardizing column names for google cloud storage\n",
    "col_names_mapping = {'viewCount':'view_count_animall',\\\n",
    "                     'callCount':'call_count_animall',\\\n",
    "                     '_score':'score',\\\n",
    "                     'highestMilk':'highest_milk',\\\n",
    "                     'locationName':'location_name',\\\n",
    "                     'isNegotiable':'is_negotiable',\\\n",
    "                     'publishedOn':'published_on',\\\n",
    "                     'currentMilk':'current_milk',\\\n",
    "                     'deliveredBefore':'delivered_before',\\\n",
    "                     'hasDelivered':'has_delivered',\\\n",
    "                     'isPregnant':'is_pregnant',\\\n",
    "                     'pregnancyMonth':'pregnancy_month',\\\n",
    "                     'age':'cattle_age',\\\n",
    "                     'animalType':'animal_type',\\\n",
    "                     'partnerId':'partner_id',\\\n",
    "                     'hasContacted':'has_contacted',\\\n",
    "                    }"
   ]
  },
  {
   "cell_type": "code",
   "execution_count": null,
   "id": "d15f7e30",
   "metadata": {},
   "outputs": [],
   "source": [
    "# renaming columns\n",
    "data = data.rename(columns=col_names_mapping)"
   ]
  },
  {
   "cell_type": "markdown",
   "id": "66cc80f1",
   "metadata": {},
   "source": [
    "#### standardizing the column data types"
   ]
  },
  {
   "cell_type": "code",
   "execution_count": null,
   "id": "a1434a1a",
   "metadata": {},
   "outputs": [],
   "source": [
    "data['distance'] = data['distance'].astype(float)\n",
    "data['rating'] = data['rating'].astype(float)\n",
    "data['view_count_animall'] = data['view_count_animall'].astype(int)\n",
    "data['call_count_animall'] = data['call_count_animall'].astype(int)\n",
    "data['recency'] = data['recency'].astype(int)\n",
    "data['score'] = data['score'].astype(float)\n",
    "data['long'] = data['long'].astype(float)\n",
    "data['lat'] = data['lat'].astype(float)\n",
    "data['highest_milk'] = data['highest_milk'].astype(float)\n",
    "data['is_negotiable'] = data['is_negotiable'].astype(int)\n",
    "data['published_on'] = pd.to_datetime(data['published_on'])\n",
    "data['current_milk'] = data['current_milk'].astype(float)\n",
    "data['delivered_before'] = data['delivered_before'].apply(lambda x: float(x) if x!='-' else x)\n",
    "data['has_delivered'] = data['has_delivered'].apply(lambda x: float(x) if x!='-' else x)\n",
    "data['is_pregnant'] = data['is_pregnant'].apply(lambda x: float(x) if x!='-' else x)\n",
    "data['pregnancy_month'] = data['pregnancy_month'].apply(lambda x: float(x) if x!='-' else x)\n",
    "data['price'] = data['price'].astype(float)\n",
    "data['cattle_age'] = data['cattle_age'].astype(float)\n",
    "data['lactation'] = data['lactation'].astype(int)\n",
    "data['date_scraped'] = pd.to_datetime(data['date_scraped'])\n",
    "data['file_age'] = data['file_age'].astype(int)\n",
    "data['days_to_sell'] = data['days_to_sell'].apply(lambda x: int(x) if len(str(x))<=2 else x)\n",
    "data['week_of_sale'] = data['week_of_sale'].apply(lambda x: int(x) if x!='UNSOLD' else x)\n",
    "data['year_of_sale'] = data['year_of_sale'].apply(lambda x: int(x) if x!='UNSOLD' else x)\n",
    "data['gmap_pincode'] = data['gmap_pincode'].apply(lambda x: int(x) if x!='-' else x)\n",
    "data['contact_number'] = data['contact_number'].apply(lambda x: int(x) if x not in ['NA','-'] else x)"
   ]
  },
  {
   "cell_type": "markdown",
   "id": "2e221db4",
   "metadata": {},
   "source": [
    "### converting to csv"
   ]
  },
  {
   "cell_type": "code",
   "execution_count": null,
   "id": "fc07f177",
   "metadata": {},
   "outputs": [],
   "source": [
    "data.to_csv('furnished_data/cattle_sold_data.csv', index=False)\n",
    "data.to_csv('furnished_data/cattle_sold_no_header.csv', index=False, header=False)"
   ]
  },
  {
   "cell_type": "markdown",
   "id": "709cce49",
   "metadata": {},
   "source": [
    "### converting to parquet"
   ]
  },
  {
   "cell_type": "code",
   "execution_count": null,
   "id": "60c0c6b7",
   "metadata": {},
   "outputs": [],
   "source": [
    "data.to_parquet('furnished_data/cattle_sold_data.parquet', index=False)"
   ]
  },
  {
   "cell_type": "markdown",
   "id": "60b2dac6",
   "metadata": {},
   "source": [
    "### pushing to google cloud storage bucket"
   ]
  },
  {
   "cell_type": "code",
   "execution_count": null,
   "id": "78a382ee",
   "metadata": {},
   "outputs": [],
   "source": [
    "# declaring the bucket name from which the date needs to be fetched\n",
    "bucket_name = 'marketplace_animall_reporting'\n",
    "\n",
    "# get the bucket object from the storage_client\n",
    "bucket = storage_client.get_bucket(bucket_name)"
   ]
  },
  {
   "cell_type": "code",
   "execution_count": null,
   "id": "e81c7537",
   "metadata": {},
   "outputs": [],
   "source": [
    "# Name of the object to be stored in the bucket\n",
    "object_name_in_bucket = bucket.blob('cattle_sold.parquet')\n",
    "\n",
    "# local folder name\n",
    "local_folder = os.getcwd()\n",
    "\n",
    "# local file location\n",
    "filename = \"%s/%s\" % (local_folder, 'furnished_data/cattle_sold_data.parquet')\n",
    "\n",
    "# Name of the object in local file system\n",
    "object_name_in_bucket.upload_from_filename(filename)"
   ]
  }
 ],
 "metadata": {
  "kernelspec": {
   "display_name": "Python 3 (ipykernel)",
   "language": "python",
   "name": "python3"
  },
  "language_info": {
   "codemirror_mode": {
    "name": "ipython",
    "version": 3
   },
   "file_extension": ".py",
   "mimetype": "text/x-python",
   "name": "python",
   "nbconvert_exporter": "python",
   "pygments_lexer": "ipython3",
   "version": "3.10.6"
  }
 },
 "nbformat": 4,
 "nbformat_minor": 5
}
